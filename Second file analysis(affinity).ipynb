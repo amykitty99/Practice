{
 "cells": [
  {
   "cell_type": "code",
   "execution_count": 1,
   "id": "b1fead0e",
   "metadata": {},
   "outputs": [],
   "source": [
    "import pandas as pd\n",
    "import numpy as np\n",
    "import matplotlib.pyplot as plt\n",
    "import scipy.stats as stats\n",
    "import math"
   ]
  },
  {
   "cell_type": "code",
   "execution_count": 2,
   "id": "3f65f925",
   "metadata": {},
   "outputs": [],
   "source": [
    "df=pd.read_excel('C:/Users/AmritaBhattacharya/OneDrive - Zeta Global/Desktop/Affinity2.xlsx')"
   ]
  },
  {
   "cell_type": "code",
   "execution_count": 3,
   "id": "911edd49",
   "metadata": {},
   "outputs": [
    {
     "data": {
      "text/html": [
       "<div>\n",
       "<style scoped>\n",
       "    .dataframe tbody tr th:only-of-type {\n",
       "        vertical-align: middle;\n",
       "    }\n",
       "\n",
       "    .dataframe tbody tr th {\n",
       "        vertical-align: top;\n",
       "    }\n",
       "\n",
       "    .dataframe thead th {\n",
       "        text-align: right;\n",
       "    }\n",
       "</style>\n",
       "<table border=\"1\" class=\"dataframe\">\n",
       "  <thead>\n",
       "    <tr style=\"text-align: right;\">\n",
       "      <th></th>\n",
       "      <th>EMAIL_MD5</th>\n",
       "      <th>AGE</th>\n",
       "      <th>GENDER</th>\n",
       "      <th>INCOME</th>\n",
       "      <th>DMA</th>\n",
       "      <th>SEG_100001</th>\n",
       "      <th>SEG_100002</th>\n",
       "      <th>SEG_100606</th>\n",
       "      <th>SEG_100433</th>\n",
       "      <th>SEG_100430</th>\n",
       "      <th>...</th>\n",
       "      <th>SEG_100697</th>\n",
       "      <th>SEG_100710</th>\n",
       "      <th>SEG_100712</th>\n",
       "      <th>SEG_100709</th>\n",
       "      <th>SEG_100704</th>\n",
       "      <th>SEG_100713</th>\n",
       "      <th>SEG_100711</th>\n",
       "      <th>SEG_100714</th>\n",
       "      <th>SEG_100715</th>\n",
       "      <th>MODIFIED_TS</th>\n",
       "    </tr>\n",
       "  </thead>\n",
       "  <tbody>\n",
       "    <tr>\n",
       "      <th>0</th>\n",
       "      <td>0000e3b866301159fec58c6d2c50ff68</td>\n",
       "      <td>NaN</td>\n",
       "      <td>M</td>\n",
       "      <td>48000.0</td>\n",
       "      <td>New York NY</td>\n",
       "      <td>NaN</td>\n",
       "      <td>NaN</td>\n",
       "      <td>NaN</td>\n",
       "      <td>NaN</td>\n",
       "      <td>NaN</td>\n",
       "      <td>...</td>\n",
       "      <td>NaN</td>\n",
       "      <td>NaN</td>\n",
       "      <td>NaN</td>\n",
       "      <td>NaN</td>\n",
       "      <td>NaN</td>\n",
       "      <td>NaN</td>\n",
       "      <td>NaN</td>\n",
       "      <td>NaN</td>\n",
       "      <td>NaN</td>\n",
       "      <td>NaN</td>\n",
       "    </tr>\n",
       "    <tr>\n",
       "      <th>1</th>\n",
       "      <td>00010f73d2902ebd3dcf25266a921551</td>\n",
       "      <td>48.0</td>\n",
       "      <td>F</td>\n",
       "      <td>NaN</td>\n",
       "      <td>NaN</td>\n",
       "      <td>NaN</td>\n",
       "      <td>NaN</td>\n",
       "      <td>NaN</td>\n",
       "      <td>NaN</td>\n",
       "      <td>NaN</td>\n",
       "      <td>...</td>\n",
       "      <td>NaN</td>\n",
       "      <td>NaN</td>\n",
       "      <td>NaN</td>\n",
       "      <td>NaN</td>\n",
       "      <td>NaN</td>\n",
       "      <td>NaN</td>\n",
       "      <td>NaN</td>\n",
       "      <td>NaN</td>\n",
       "      <td>NaN</td>\n",
       "      <td>NaN</td>\n",
       "    </tr>\n",
       "    <tr>\n",
       "      <th>2</th>\n",
       "      <td>0001c3cf1a4930fb08fe7e0881c07e3e</td>\n",
       "      <td>46.0</td>\n",
       "      <td>F</td>\n",
       "      <td>429000.0</td>\n",
       "      <td>New York NY</td>\n",
       "      <td>NaN</td>\n",
       "      <td>NaN</td>\n",
       "      <td>NaN</td>\n",
       "      <td>NaN</td>\n",
       "      <td>NaN</td>\n",
       "      <td>...</td>\n",
       "      <td>NaN</td>\n",
       "      <td>NaN</td>\n",
       "      <td>NaN</td>\n",
       "      <td>NaN</td>\n",
       "      <td>NaN</td>\n",
       "      <td>NaN</td>\n",
       "      <td>NaN</td>\n",
       "      <td>NaN</td>\n",
       "      <td>NaN</td>\n",
       "      <td>NaN</td>\n",
       "    </tr>\n",
       "    <tr>\n",
       "      <th>3</th>\n",
       "      <td>00029c9144de248bda40f969ab7fa576</td>\n",
       "      <td>NaN</td>\n",
       "      <td>NaN</td>\n",
       "      <td>NaN</td>\n",
       "      <td>NaN</td>\n",
       "      <td>NaN</td>\n",
       "      <td>NaN</td>\n",
       "      <td>NaN</td>\n",
       "      <td>NaN</td>\n",
       "      <td>NaN</td>\n",
       "      <td>...</td>\n",
       "      <td>NaN</td>\n",
       "      <td>NaN</td>\n",
       "      <td>NaN</td>\n",
       "      <td>NaN</td>\n",
       "      <td>NaN</td>\n",
       "      <td>NaN</td>\n",
       "      <td>NaN</td>\n",
       "      <td>NaN</td>\n",
       "      <td>NaN</td>\n",
       "      <td>NaN</td>\n",
       "    </tr>\n",
       "    <tr>\n",
       "      <th>4</th>\n",
       "      <td>0003a0c905524d4776536f2b08612492</td>\n",
       "      <td>NaN</td>\n",
       "      <td>NaN</td>\n",
       "      <td>NaN</td>\n",
       "      <td>NaN</td>\n",
       "      <td>NaN</td>\n",
       "      <td>NaN</td>\n",
       "      <td>NaN</td>\n",
       "      <td>NaN</td>\n",
       "      <td>NaN</td>\n",
       "      <td>...</td>\n",
       "      <td>NaN</td>\n",
       "      <td>NaN</td>\n",
       "      <td>NaN</td>\n",
       "      <td>NaN</td>\n",
       "      <td>NaN</td>\n",
       "      <td>NaN</td>\n",
       "      <td>NaN</td>\n",
       "      <td>NaN</td>\n",
       "      <td>NaN</td>\n",
       "      <td>NaN</td>\n",
       "    </tr>\n",
       "  </tbody>\n",
       "</table>\n",
       "<p>5 rows × 569 columns</p>\n",
       "</div>"
      ],
      "text/plain": [
       "                          EMAIL_MD5   AGE GENDER    INCOME          DMA  \\\n",
       "0  0000e3b866301159fec58c6d2c50ff68   NaN      M   48000.0  New York NY   \n",
       "1  00010f73d2902ebd3dcf25266a921551  48.0      F       NaN          NaN   \n",
       "2  0001c3cf1a4930fb08fe7e0881c07e3e  46.0      F  429000.0  New York NY   \n",
       "3  00029c9144de248bda40f969ab7fa576   NaN    NaN       NaN          NaN   \n",
       "4  0003a0c905524d4776536f2b08612492   NaN    NaN       NaN          NaN   \n",
       "\n",
       "   SEG_100001  SEG_100002  SEG_100606  SEG_100433  SEG_100430  ...  \\\n",
       "0         NaN         NaN         NaN         NaN         NaN  ...   \n",
       "1         NaN         NaN         NaN         NaN         NaN  ...   \n",
       "2         NaN         NaN         NaN         NaN         NaN  ...   \n",
       "3         NaN         NaN         NaN         NaN         NaN  ...   \n",
       "4         NaN         NaN         NaN         NaN         NaN  ...   \n",
       "\n",
       "   SEG_100697  SEG_100710  SEG_100712  SEG_100709  SEG_100704  SEG_100713  \\\n",
       "0         NaN         NaN         NaN         NaN         NaN         NaN   \n",
       "1         NaN         NaN         NaN         NaN         NaN         NaN   \n",
       "2         NaN         NaN         NaN         NaN         NaN         NaN   \n",
       "3         NaN         NaN         NaN         NaN         NaN         NaN   \n",
       "4         NaN         NaN         NaN         NaN         NaN         NaN   \n",
       "\n",
       "   SEG_100711  SEG_100714  SEG_100715  MODIFIED_TS  \n",
       "0         NaN         NaN         NaN          NaN  \n",
       "1         NaN         NaN         NaN          NaN  \n",
       "2         NaN         NaN         NaN          NaN  \n",
       "3         NaN         NaN         NaN          NaN  \n",
       "4         NaN         NaN         NaN          NaN  \n",
       "\n",
       "[5 rows x 569 columns]"
      ]
     },
     "execution_count": 3,
     "metadata": {},
     "output_type": "execute_result"
    }
   ],
   "source": [
    "df.head()"
   ]
  },
  {
   "cell_type": "code",
   "execution_count": 4,
   "id": "f960cd7a",
   "metadata": {},
   "outputs": [
    {
     "data": {
      "text/html": [
       "<div>\n",
       "<style scoped>\n",
       "    .dataframe tbody tr th:only-of-type {\n",
       "        vertical-align: middle;\n",
       "    }\n",
       "\n",
       "    .dataframe tbody tr th {\n",
       "        vertical-align: top;\n",
       "    }\n",
       "\n",
       "    .dataframe thead th {\n",
       "        text-align: right;\n",
       "    }\n",
       "</style>\n",
       "<table border=\"1\" class=\"dataframe\">\n",
       "  <thead>\n",
       "    <tr style=\"text-align: right;\">\n",
       "      <th></th>\n",
       "      <th>EMAIL_MD5</th>\n",
       "      <th>AGE</th>\n",
       "      <th>GENDER</th>\n",
       "      <th>INCOME</th>\n",
       "      <th>DMA</th>\n",
       "      <th>SEG_100001</th>\n",
       "      <th>SEG_100002</th>\n",
       "      <th>SEG_100606</th>\n",
       "      <th>SEG_100433</th>\n",
       "      <th>SEG_100430</th>\n",
       "      <th>...</th>\n",
       "      <th>SEG_100697</th>\n",
       "      <th>SEG_100710</th>\n",
       "      <th>SEG_100712</th>\n",
       "      <th>SEG_100709</th>\n",
       "      <th>SEG_100704</th>\n",
       "      <th>SEG_100713</th>\n",
       "      <th>SEG_100711</th>\n",
       "      <th>SEG_100714</th>\n",
       "      <th>SEG_100715</th>\n",
       "      <th>MODIFIED_TS</th>\n",
       "    </tr>\n",
       "  </thead>\n",
       "  <tbody>\n",
       "    <tr>\n",
       "      <th>0</th>\n",
       "      <td>0000e3b866301159fec58c6d2c50ff68</td>\n",
       "      <td>NaN</td>\n",
       "      <td>M</td>\n",
       "      <td>48000.0</td>\n",
       "      <td>New York NY</td>\n",
       "      <td>NaN</td>\n",
       "      <td>NaN</td>\n",
       "      <td>NaN</td>\n",
       "      <td>NaN</td>\n",
       "      <td>NaN</td>\n",
       "      <td>...</td>\n",
       "      <td>NaN</td>\n",
       "      <td>NaN</td>\n",
       "      <td>NaN</td>\n",
       "      <td>NaN</td>\n",
       "      <td>NaN</td>\n",
       "      <td>NaN</td>\n",
       "      <td>NaN</td>\n",
       "      <td>NaN</td>\n",
       "      <td>NaN</td>\n",
       "      <td>NaN</td>\n",
       "    </tr>\n",
       "    <tr>\n",
       "      <th>1</th>\n",
       "      <td>00010f73d2902ebd3dcf25266a921551</td>\n",
       "      <td>48.0</td>\n",
       "      <td>F</td>\n",
       "      <td>NaN</td>\n",
       "      <td>NaN</td>\n",
       "      <td>NaN</td>\n",
       "      <td>NaN</td>\n",
       "      <td>NaN</td>\n",
       "      <td>NaN</td>\n",
       "      <td>NaN</td>\n",
       "      <td>...</td>\n",
       "      <td>NaN</td>\n",
       "      <td>NaN</td>\n",
       "      <td>NaN</td>\n",
       "      <td>NaN</td>\n",
       "      <td>NaN</td>\n",
       "      <td>NaN</td>\n",
       "      <td>NaN</td>\n",
       "      <td>NaN</td>\n",
       "      <td>NaN</td>\n",
       "      <td>NaN</td>\n",
       "    </tr>\n",
       "    <tr>\n",
       "      <th>2</th>\n",
       "      <td>0001c3cf1a4930fb08fe7e0881c07e3e</td>\n",
       "      <td>46.0</td>\n",
       "      <td>F</td>\n",
       "      <td>429000.0</td>\n",
       "      <td>New York NY</td>\n",
       "      <td>NaN</td>\n",
       "      <td>NaN</td>\n",
       "      <td>NaN</td>\n",
       "      <td>NaN</td>\n",
       "      <td>NaN</td>\n",
       "      <td>...</td>\n",
       "      <td>NaN</td>\n",
       "      <td>NaN</td>\n",
       "      <td>NaN</td>\n",
       "      <td>NaN</td>\n",
       "      <td>NaN</td>\n",
       "      <td>NaN</td>\n",
       "      <td>NaN</td>\n",
       "      <td>NaN</td>\n",
       "      <td>NaN</td>\n",
       "      <td>NaN</td>\n",
       "    </tr>\n",
       "    <tr>\n",
       "      <th>3</th>\n",
       "      <td>00029c9144de248bda40f969ab7fa576</td>\n",
       "      <td>NaN</td>\n",
       "      <td>NaN</td>\n",
       "      <td>NaN</td>\n",
       "      <td>NaN</td>\n",
       "      <td>NaN</td>\n",
       "      <td>NaN</td>\n",
       "      <td>NaN</td>\n",
       "      <td>NaN</td>\n",
       "      <td>NaN</td>\n",
       "      <td>...</td>\n",
       "      <td>NaN</td>\n",
       "      <td>NaN</td>\n",
       "      <td>NaN</td>\n",
       "      <td>NaN</td>\n",
       "      <td>NaN</td>\n",
       "      <td>NaN</td>\n",
       "      <td>NaN</td>\n",
       "      <td>NaN</td>\n",
       "      <td>NaN</td>\n",
       "      <td>NaN</td>\n",
       "    </tr>\n",
       "    <tr>\n",
       "      <th>4</th>\n",
       "      <td>0003a0c905524d4776536f2b08612492</td>\n",
       "      <td>NaN</td>\n",
       "      <td>NaN</td>\n",
       "      <td>NaN</td>\n",
       "      <td>NaN</td>\n",
       "      <td>NaN</td>\n",
       "      <td>NaN</td>\n",
       "      <td>NaN</td>\n",
       "      <td>NaN</td>\n",
       "      <td>NaN</td>\n",
       "      <td>...</td>\n",
       "      <td>NaN</td>\n",
       "      <td>NaN</td>\n",
       "      <td>NaN</td>\n",
       "      <td>NaN</td>\n",
       "      <td>NaN</td>\n",
       "      <td>NaN</td>\n",
       "      <td>NaN</td>\n",
       "      <td>NaN</td>\n",
       "      <td>NaN</td>\n",
       "      <td>NaN</td>\n",
       "    </tr>\n",
       "  </tbody>\n",
       "</table>\n",
       "<p>5 rows × 569 columns</p>\n",
       "</div>"
      ],
      "text/plain": [
       "                          EMAIL_MD5   AGE GENDER    INCOME          DMA  \\\n",
       "0  0000e3b866301159fec58c6d2c50ff68   NaN      M   48000.0  New York NY   \n",
       "1  00010f73d2902ebd3dcf25266a921551  48.0      F       NaN          NaN   \n",
       "2  0001c3cf1a4930fb08fe7e0881c07e3e  46.0      F  429000.0  New York NY   \n",
       "3  00029c9144de248bda40f969ab7fa576   NaN    NaN       NaN          NaN   \n",
       "4  0003a0c905524d4776536f2b08612492   NaN    NaN       NaN          NaN   \n",
       "\n",
       "   SEG_100001  SEG_100002  SEG_100606  SEG_100433  SEG_100430  ...  \\\n",
       "0         NaN         NaN         NaN         NaN         NaN  ...   \n",
       "1         NaN         NaN         NaN         NaN         NaN  ...   \n",
       "2         NaN         NaN         NaN         NaN         NaN  ...   \n",
       "3         NaN         NaN         NaN         NaN         NaN  ...   \n",
       "4         NaN         NaN         NaN         NaN         NaN  ...   \n",
       "\n",
       "   SEG_100697  SEG_100710  SEG_100712  SEG_100709  SEG_100704  SEG_100713  \\\n",
       "0         NaN         NaN         NaN         NaN         NaN         NaN   \n",
       "1         NaN         NaN         NaN         NaN         NaN         NaN   \n",
       "2         NaN         NaN         NaN         NaN         NaN         NaN   \n",
       "3         NaN         NaN         NaN         NaN         NaN         NaN   \n",
       "4         NaN         NaN         NaN         NaN         NaN         NaN   \n",
       "\n",
       "   SEG_100711  SEG_100714  SEG_100715  MODIFIED_TS  \n",
       "0         NaN         NaN         NaN          NaN  \n",
       "1         NaN         NaN         NaN          NaN  \n",
       "2         NaN         NaN         NaN          NaN  \n",
       "3         NaN         NaN         NaN          NaN  \n",
       "4         NaN         NaN         NaN          NaN  \n",
       "\n",
       "[5 rows x 569 columns]"
      ]
     },
     "execution_count": 4,
     "metadata": {},
     "output_type": "execute_result"
    }
   ],
   "source": [
    "df1 = df.replace(r'^\\s*$', np.NaN, regex=True)\n",
    "df1.head()"
   ]
  },
  {
   "cell_type": "code",
   "execution_count": 5,
   "id": "de20cc59",
   "metadata": {},
   "outputs": [
    {
     "data": {
      "text/html": [
       "<div>\n",
       "<style scoped>\n",
       "    .dataframe tbody tr th:only-of-type {\n",
       "        vertical-align: middle;\n",
       "    }\n",
       "\n",
       "    .dataframe tbody tr th {\n",
       "        vertical-align: top;\n",
       "    }\n",
       "\n",
       "    .dataframe thead th {\n",
       "        text-align: right;\n",
       "    }\n",
       "</style>\n",
       "<table border=\"1\" class=\"dataframe\">\n",
       "  <thead>\n",
       "    <tr style=\"text-align: right;\">\n",
       "      <th></th>\n",
       "      <th>EMAIL_MD5</th>\n",
       "      <th>AGE</th>\n",
       "      <th>GENDER</th>\n",
       "      <th>INCOME</th>\n",
       "      <th>DMA</th>\n",
       "      <th>SEGMENT ID</th>\n",
       "      <th>Scores</th>\n",
       "    </tr>\n",
       "  </thead>\n",
       "  <tbody>\n",
       "    <tr>\n",
       "      <th>0</th>\n",
       "      <td>0000e3b866301159fec58c6d2c50ff68</td>\n",
       "      <td>NaN</td>\n",
       "      <td>M</td>\n",
       "      <td>48000.0</td>\n",
       "      <td>New York NY</td>\n",
       "      <td>SEG_100001</td>\n",
       "      <td>NaN</td>\n",
       "    </tr>\n",
       "    <tr>\n",
       "      <th>1</th>\n",
       "      <td>00010f73d2902ebd3dcf25266a921551</td>\n",
       "      <td>48.0</td>\n",
       "      <td>F</td>\n",
       "      <td>NaN</td>\n",
       "      <td>NaN</td>\n",
       "      <td>SEG_100001</td>\n",
       "      <td>NaN</td>\n",
       "    </tr>\n",
       "    <tr>\n",
       "      <th>2</th>\n",
       "      <td>0001c3cf1a4930fb08fe7e0881c07e3e</td>\n",
       "      <td>46.0</td>\n",
       "      <td>F</td>\n",
       "      <td>429000.0</td>\n",
       "      <td>New York NY</td>\n",
       "      <td>SEG_100001</td>\n",
       "      <td>NaN</td>\n",
       "    </tr>\n",
       "    <tr>\n",
       "      <th>3</th>\n",
       "      <td>00029c9144de248bda40f969ab7fa576</td>\n",
       "      <td>NaN</td>\n",
       "      <td>NaN</td>\n",
       "      <td>NaN</td>\n",
       "      <td>NaN</td>\n",
       "      <td>SEG_100001</td>\n",
       "      <td>NaN</td>\n",
       "    </tr>\n",
       "    <tr>\n",
       "      <th>4</th>\n",
       "      <td>0003a0c905524d4776536f2b08612492</td>\n",
       "      <td>NaN</td>\n",
       "      <td>NaN</td>\n",
       "      <td>NaN</td>\n",
       "      <td>NaN</td>\n",
       "      <td>SEG_100001</td>\n",
       "      <td>NaN</td>\n",
       "    </tr>\n",
       "  </tbody>\n",
       "</table>\n",
       "</div>"
      ],
      "text/plain": [
       "                          EMAIL_MD5   AGE GENDER    INCOME          DMA  \\\n",
       "0  0000e3b866301159fec58c6d2c50ff68   NaN      M   48000.0  New York NY   \n",
       "1  00010f73d2902ebd3dcf25266a921551  48.0      F       NaN          NaN   \n",
       "2  0001c3cf1a4930fb08fe7e0881c07e3e  46.0      F  429000.0  New York NY   \n",
       "3  00029c9144de248bda40f969ab7fa576   NaN    NaN       NaN          NaN   \n",
       "4  0003a0c905524d4776536f2b08612492   NaN    NaN       NaN          NaN   \n",
       "\n",
       "   SEGMENT ID Scores  \n",
       "0  SEG_100001    NaN  \n",
       "1  SEG_100001    NaN  \n",
       "2  SEG_100001    NaN  \n",
       "3  SEG_100001    NaN  \n",
       "4  SEG_100001    NaN  "
      ]
     },
     "execution_count": 5,
     "metadata": {},
     "output_type": "execute_result"
    }
   ],
   "source": [
    "df2=df1.melt(id_vars=[\"EMAIL_MD5\",\"AGE\", \"GENDER\", \"INCOME\", \"DMA\"], var_name=\"SEGMENT ID\", value_name=\"Scores\")\n",
    "df2.head()"
   ]
  },
  {
   "cell_type": "code",
   "execution_count": 6,
   "id": "b532e984",
   "metadata": {},
   "outputs": [
    {
     "data": {
      "text/html": [
       "<div>\n",
       "<style scoped>\n",
       "    .dataframe tbody tr th:only-of-type {\n",
       "        vertical-align: middle;\n",
       "    }\n",
       "\n",
       "    .dataframe tbody tr th {\n",
       "        vertical-align: top;\n",
       "    }\n",
       "\n",
       "    .dataframe thead th {\n",
       "        text-align: right;\n",
       "    }\n",
       "</style>\n",
       "<table border=\"1\" class=\"dataframe\">\n",
       "  <thead>\n",
       "    <tr style=\"text-align: right;\">\n",
       "      <th></th>\n",
       "      <th>EMAIL_MD5</th>\n",
       "      <th>AGE</th>\n",
       "      <th>GENDER</th>\n",
       "      <th>INCOME</th>\n",
       "      <th>DMA</th>\n",
       "      <th>SEGMENT_ID</th>\n",
       "      <th>Scores</th>\n",
       "    </tr>\n",
       "  </thead>\n",
       "  <tbody>\n",
       "    <tr>\n",
       "      <th>0</th>\n",
       "      <td>0000e3b866301159fec58c6d2c50ff68</td>\n",
       "      <td>NaN</td>\n",
       "      <td>M</td>\n",
       "      <td>48000.0</td>\n",
       "      <td>New York NY</td>\n",
       "      <td>SEG_100001</td>\n",
       "      <td>NaN</td>\n",
       "    </tr>\n",
       "    <tr>\n",
       "      <th>1</th>\n",
       "      <td>00010f73d2902ebd3dcf25266a921551</td>\n",
       "      <td>48.0</td>\n",
       "      <td>F</td>\n",
       "      <td>NaN</td>\n",
       "      <td>NaN</td>\n",
       "      <td>SEG_100001</td>\n",
       "      <td>NaN</td>\n",
       "    </tr>\n",
       "    <tr>\n",
       "      <th>2</th>\n",
       "      <td>0001c3cf1a4930fb08fe7e0881c07e3e</td>\n",
       "      <td>46.0</td>\n",
       "      <td>F</td>\n",
       "      <td>429000.0</td>\n",
       "      <td>New York NY</td>\n",
       "      <td>SEG_100001</td>\n",
       "      <td>NaN</td>\n",
       "    </tr>\n",
       "    <tr>\n",
       "      <th>3</th>\n",
       "      <td>00029c9144de248bda40f969ab7fa576</td>\n",
       "      <td>NaN</td>\n",
       "      <td>NaN</td>\n",
       "      <td>NaN</td>\n",
       "      <td>NaN</td>\n",
       "      <td>SEG_100001</td>\n",
       "      <td>NaN</td>\n",
       "    </tr>\n",
       "    <tr>\n",
       "      <th>4</th>\n",
       "      <td>0003a0c905524d4776536f2b08612492</td>\n",
       "      <td>NaN</td>\n",
       "      <td>NaN</td>\n",
       "      <td>NaN</td>\n",
       "      <td>NaN</td>\n",
       "      <td>SEG_100001</td>\n",
       "      <td>NaN</td>\n",
       "    </tr>\n",
       "  </tbody>\n",
       "</table>\n",
       "</div>"
      ],
      "text/plain": [
       "                          EMAIL_MD5   AGE GENDER    INCOME          DMA  \\\n",
       "0  0000e3b866301159fec58c6d2c50ff68   NaN      M   48000.0  New York NY   \n",
       "1  00010f73d2902ebd3dcf25266a921551  48.0      F       NaN          NaN   \n",
       "2  0001c3cf1a4930fb08fe7e0881c07e3e  46.0      F  429000.0  New York NY   \n",
       "3  00029c9144de248bda40f969ab7fa576   NaN    NaN       NaN          NaN   \n",
       "4  0003a0c905524d4776536f2b08612492   NaN    NaN       NaN          NaN   \n",
       "\n",
       "   SEGMENT_ID Scores  \n",
       "0  SEG_100001    NaN  \n",
       "1  SEG_100001    NaN  \n",
       "2  SEG_100001    NaN  \n",
       "3  SEG_100001    NaN  \n",
       "4  SEG_100001    NaN  "
      ]
     },
     "execution_count": 6,
     "metadata": {},
     "output_type": "execute_result"
    }
   ],
   "source": [
    "df2.rename(columns = {'SEGMENT ID':'SEGMENT_ID'}, inplace = True)\n",
    "df2.head()"
   ]
  },
  {
   "cell_type": "code",
   "execution_count": 7,
   "id": "68ec2a45",
   "metadata": {},
   "outputs": [
    {
     "data": {
      "text/html": [
       "<div>\n",
       "<style scoped>\n",
       "    .dataframe tbody tr th:only-of-type {\n",
       "        vertical-align: middle;\n",
       "    }\n",
       "\n",
       "    .dataframe tbody tr th {\n",
       "        vertical-align: top;\n",
       "    }\n",
       "\n",
       "    .dataframe thead th {\n",
       "        text-align: right;\n",
       "    }\n",
       "</style>\n",
       "<table border=\"1\" class=\"dataframe\">\n",
       "  <thead>\n",
       "    <tr style=\"text-align: right;\">\n",
       "      <th></th>\n",
       "      <th>SEGMENT ID</th>\n",
       "      <th>CATEGORY_SEGMENT_NAME</th>\n",
       "      <th>SUB_CATEGORY_SEGMENT_NAME</th>\n",
       "      <th>BRAND_SEGMENT_NAME</th>\n",
       "    </tr>\n",
       "  </thead>\n",
       "  <tbody>\n",
       "    <tr>\n",
       "      <th>0</th>\n",
       "      <td>SEG_100001</td>\n",
       "      <td>Apparel &amp; Accessories</td>\n",
       "      <td>Accessories</td>\n",
       "      <td>Coach</td>\n",
       "    </tr>\n",
       "    <tr>\n",
       "      <th>1</th>\n",
       "      <td>SEG_100002</td>\n",
       "      <td>Apparel &amp; Accessories</td>\n",
       "      <td>Accessories</td>\n",
       "      <td>Guess</td>\n",
       "    </tr>\n",
       "    <tr>\n",
       "      <th>2</th>\n",
       "      <td>SEG_100048</td>\n",
       "      <td>Apparel &amp; Accessories</td>\n",
       "      <td>Apparel Stores</td>\n",
       "      <td>Abercrombie &amp; Fitch</td>\n",
       "    </tr>\n",
       "    <tr>\n",
       "      <th>3</th>\n",
       "      <td>SEG_100038</td>\n",
       "      <td>Apparel &amp; Accessories</td>\n",
       "      <td>Apparel Stores</td>\n",
       "      <td>American Eagle</td>\n",
       "    </tr>\n",
       "    <tr>\n",
       "      <th>4</th>\n",
       "      <td>SEG_100058</td>\n",
       "      <td>Apparel &amp; Accessories</td>\n",
       "      <td>Apparel Stores</td>\n",
       "      <td>Banana Republic</td>\n",
       "    </tr>\n",
       "  </tbody>\n",
       "</table>\n",
       "</div>"
      ],
      "text/plain": [
       "   SEGMENT ID  CATEGORY_SEGMENT_NAME SUB_CATEGORY_SEGMENT_NAME  \\\n",
       "0  SEG_100001  Apparel & Accessories               Accessories   \n",
       "1  SEG_100002  Apparel & Accessories               Accessories   \n",
       "2  SEG_100048  Apparel & Accessories            Apparel Stores   \n",
       "3  SEG_100038  Apparel & Accessories            Apparel Stores   \n",
       "4  SEG_100058  Apparel & Accessories            Apparel Stores   \n",
       "\n",
       "    BRAND_SEGMENT_NAME  \n",
       "0                Coach  \n",
       "1                Guess  \n",
       "2  Abercrombie & Fitch  \n",
       "3       American Eagle  \n",
       "4      Banana Republic  "
      ]
     },
     "execution_count": 7,
     "metadata": {},
     "output_type": "execute_result"
    }
   ],
   "source": [
    "data_dict=pd.read_excel('C:/Users/AmritaBhattacharya/OneDrive - Zeta Global/Desktop/Affinity_dict.xlsx')\n",
    "data_dict.head()"
   ]
  },
  {
   "cell_type": "code",
   "execution_count": 8,
   "id": "c873b270",
   "metadata": {},
   "outputs": [
    {
     "data": {
      "text/html": [
       "<div>\n",
       "<style scoped>\n",
       "    .dataframe tbody tr th:only-of-type {\n",
       "        vertical-align: middle;\n",
       "    }\n",
       "\n",
       "    .dataframe tbody tr th {\n",
       "        vertical-align: top;\n",
       "    }\n",
       "\n",
       "    .dataframe thead th {\n",
       "        text-align: right;\n",
       "    }\n",
       "</style>\n",
       "<table border=\"1\" class=\"dataframe\">\n",
       "  <thead>\n",
       "    <tr style=\"text-align: right;\">\n",
       "      <th></th>\n",
       "      <th>SEGMENT_ID</th>\n",
       "      <th>CATEGORY_SEGMENT_NAME</th>\n",
       "      <th>SUB_CATEGORY_SEGMENT_NAME</th>\n",
       "      <th>BRAND_SEGMENT_NAME</th>\n",
       "    </tr>\n",
       "  </thead>\n",
       "  <tbody>\n",
       "    <tr>\n",
       "      <th>0</th>\n",
       "      <td>SEG_100001</td>\n",
       "      <td>Apparel &amp; Accessories</td>\n",
       "      <td>Accessories</td>\n",
       "      <td>Coach</td>\n",
       "    </tr>\n",
       "    <tr>\n",
       "      <th>1</th>\n",
       "      <td>SEG_100002</td>\n",
       "      <td>Apparel &amp; Accessories</td>\n",
       "      <td>Accessories</td>\n",
       "      <td>Guess</td>\n",
       "    </tr>\n",
       "    <tr>\n",
       "      <th>2</th>\n",
       "      <td>SEG_100048</td>\n",
       "      <td>Apparel &amp; Accessories</td>\n",
       "      <td>Apparel Stores</td>\n",
       "      <td>Abercrombie &amp; Fitch</td>\n",
       "    </tr>\n",
       "    <tr>\n",
       "      <th>3</th>\n",
       "      <td>SEG_100038</td>\n",
       "      <td>Apparel &amp; Accessories</td>\n",
       "      <td>Apparel Stores</td>\n",
       "      <td>American Eagle</td>\n",
       "    </tr>\n",
       "    <tr>\n",
       "      <th>4</th>\n",
       "      <td>SEG_100058</td>\n",
       "      <td>Apparel &amp; Accessories</td>\n",
       "      <td>Apparel Stores</td>\n",
       "      <td>Banana Republic</td>\n",
       "    </tr>\n",
       "  </tbody>\n",
       "</table>\n",
       "</div>"
      ],
      "text/plain": [
       "   SEGMENT_ID  CATEGORY_SEGMENT_NAME SUB_CATEGORY_SEGMENT_NAME  \\\n",
       "0  SEG_100001  Apparel & Accessories               Accessories   \n",
       "1  SEG_100002  Apparel & Accessories               Accessories   \n",
       "2  SEG_100048  Apparel & Accessories            Apparel Stores   \n",
       "3  SEG_100038  Apparel & Accessories            Apparel Stores   \n",
       "4  SEG_100058  Apparel & Accessories            Apparel Stores   \n",
       "\n",
       "    BRAND_SEGMENT_NAME  \n",
       "0                Coach  \n",
       "1                Guess  \n",
       "2  Abercrombie & Fitch  \n",
       "3       American Eagle  \n",
       "4      Banana Republic  "
      ]
     },
     "execution_count": 8,
     "metadata": {},
     "output_type": "execute_result"
    }
   ],
   "source": [
    "data_dict.rename(columns = {'SEGMENT ID':'SEGMENT_ID'}, inplace = True)\n",
    "data_dict.head()"
   ]
  },
  {
   "cell_type": "code",
   "execution_count": 9,
   "id": "921196b0",
   "metadata": {},
   "outputs": [
    {
     "data": {
      "text/html": [
       "<div>\n",
       "<style scoped>\n",
       "    .dataframe tbody tr th:only-of-type {\n",
       "        vertical-align: middle;\n",
       "    }\n",
       "\n",
       "    .dataframe tbody tr th {\n",
       "        vertical-align: top;\n",
       "    }\n",
       "\n",
       "    .dataframe thead th {\n",
       "        text-align: right;\n",
       "    }\n",
       "</style>\n",
       "<table border=\"1\" class=\"dataframe\">\n",
       "  <thead>\n",
       "    <tr style=\"text-align: right;\">\n",
       "      <th></th>\n",
       "      <th>EMAIL_MD5</th>\n",
       "      <th>AGE</th>\n",
       "      <th>GENDER</th>\n",
       "      <th>INCOME</th>\n",
       "      <th>DMA</th>\n",
       "      <th>SEGMENT_ID</th>\n",
       "      <th>Scores</th>\n",
       "    </tr>\n",
       "  </thead>\n",
       "  <tbody>\n",
       "    <tr>\n",
       "      <th>0</th>\n",
       "      <td>0000e3b866301159fec58c6d2c50ff68</td>\n",
       "      <td>NaN</td>\n",
       "      <td>M</td>\n",
       "      <td>48000.0</td>\n",
       "      <td>New York NY</td>\n",
       "      <td>SEG_100001</td>\n",
       "      <td>NaN</td>\n",
       "    </tr>\n",
       "    <tr>\n",
       "      <th>1</th>\n",
       "      <td>00010f73d2902ebd3dcf25266a921551</td>\n",
       "      <td>48.0</td>\n",
       "      <td>F</td>\n",
       "      <td>NaN</td>\n",
       "      <td>NaN</td>\n",
       "      <td>SEG_100001</td>\n",
       "      <td>NaN</td>\n",
       "    </tr>\n",
       "    <tr>\n",
       "      <th>2</th>\n",
       "      <td>0001c3cf1a4930fb08fe7e0881c07e3e</td>\n",
       "      <td>46.0</td>\n",
       "      <td>F</td>\n",
       "      <td>429000.0</td>\n",
       "      <td>New York NY</td>\n",
       "      <td>SEG_100001</td>\n",
       "      <td>NaN</td>\n",
       "    </tr>\n",
       "    <tr>\n",
       "      <th>3</th>\n",
       "      <td>00029c9144de248bda40f969ab7fa576</td>\n",
       "      <td>NaN</td>\n",
       "      <td>NaN</td>\n",
       "      <td>NaN</td>\n",
       "      <td>NaN</td>\n",
       "      <td>SEG_100001</td>\n",
       "      <td>NaN</td>\n",
       "    </tr>\n",
       "    <tr>\n",
       "      <th>4</th>\n",
       "      <td>0003a0c905524d4776536f2b08612492</td>\n",
       "      <td>NaN</td>\n",
       "      <td>NaN</td>\n",
       "      <td>NaN</td>\n",
       "      <td>NaN</td>\n",
       "      <td>SEG_100001</td>\n",
       "      <td>NaN</td>\n",
       "    </tr>\n",
       "  </tbody>\n",
       "</table>\n",
       "</div>"
      ],
      "text/plain": [
       "                          EMAIL_MD5   AGE GENDER    INCOME          DMA  \\\n",
       "0  0000e3b866301159fec58c6d2c50ff68   NaN      M   48000.0  New York NY   \n",
       "1  00010f73d2902ebd3dcf25266a921551  48.0      F       NaN          NaN   \n",
       "2  0001c3cf1a4930fb08fe7e0881c07e3e  46.0      F  429000.0  New York NY   \n",
       "3  00029c9144de248bda40f969ab7fa576   NaN    NaN       NaN          NaN   \n",
       "4  0003a0c905524d4776536f2b08612492   NaN    NaN       NaN          NaN   \n",
       "\n",
       "   SEGMENT_ID Scores  \n",
       "0  SEG_100001    NaN  \n",
       "1  SEG_100001    NaN  \n",
       "2  SEG_100001    NaN  \n",
       "3  SEG_100001    NaN  \n",
       "4  SEG_100001    NaN  "
      ]
     },
     "execution_count": 9,
     "metadata": {},
     "output_type": "execute_result"
    }
   ],
   "source": [
    "df2.head()"
   ]
  },
  {
   "cell_type": "code",
   "execution_count": 10,
   "id": "7b865b1e",
   "metadata": {
    "scrolled": true
   },
   "outputs": [
    {
     "data": {
      "text/html": [
       "<div>\n",
       "<style scoped>\n",
       "    .dataframe tbody tr th:only-of-type {\n",
       "        vertical-align: middle;\n",
       "    }\n",
       "\n",
       "    .dataframe tbody tr th {\n",
       "        vertical-align: top;\n",
       "    }\n",
       "\n",
       "    .dataframe thead th {\n",
       "        text-align: right;\n",
       "    }\n",
       "</style>\n",
       "<table border=\"1\" class=\"dataframe\">\n",
       "  <thead>\n",
       "    <tr style=\"text-align: right;\">\n",
       "      <th></th>\n",
       "      <th>EMAIL_MD5</th>\n",
       "      <th>AGE</th>\n",
       "      <th>GENDER</th>\n",
       "      <th>INCOME</th>\n",
       "      <th>DMA</th>\n",
       "      <th>SEGMENT_ID</th>\n",
       "      <th>Scores</th>\n",
       "      <th>CATEGORY_SEGMENT_NAME</th>\n",
       "      <th>SUB_CATEGORY_SEGMENT_NAME</th>\n",
       "      <th>BRAND_SEGMENT_NAME</th>\n",
       "    </tr>\n",
       "  </thead>\n",
       "  <tbody>\n",
       "    <tr>\n",
       "      <th>0</th>\n",
       "      <td>0000e3b866301159fec58c6d2c50ff68</td>\n",
       "      <td>NaN</td>\n",
       "      <td>M</td>\n",
       "      <td>48000.0</td>\n",
       "      <td>New York NY</td>\n",
       "      <td>SEG_100001</td>\n",
       "      <td>NaN</td>\n",
       "      <td>Apparel &amp; Accessories</td>\n",
       "      <td>Accessories</td>\n",
       "      <td>Coach</td>\n",
       "    </tr>\n",
       "    <tr>\n",
       "      <th>1</th>\n",
       "      <td>00010f73d2902ebd3dcf25266a921551</td>\n",
       "      <td>48.0</td>\n",
       "      <td>F</td>\n",
       "      <td>NaN</td>\n",
       "      <td>NaN</td>\n",
       "      <td>SEG_100001</td>\n",
       "      <td>NaN</td>\n",
       "      <td>Apparel &amp; Accessories</td>\n",
       "      <td>Accessories</td>\n",
       "      <td>Coach</td>\n",
       "    </tr>\n",
       "    <tr>\n",
       "      <th>2</th>\n",
       "      <td>0001c3cf1a4930fb08fe7e0881c07e3e</td>\n",
       "      <td>46.0</td>\n",
       "      <td>F</td>\n",
       "      <td>429000.0</td>\n",
       "      <td>New York NY</td>\n",
       "      <td>SEG_100001</td>\n",
       "      <td>NaN</td>\n",
       "      <td>Apparel &amp; Accessories</td>\n",
       "      <td>Accessories</td>\n",
       "      <td>Coach</td>\n",
       "    </tr>\n",
       "    <tr>\n",
       "      <th>3</th>\n",
       "      <td>00029c9144de248bda40f969ab7fa576</td>\n",
       "      <td>NaN</td>\n",
       "      <td>NaN</td>\n",
       "      <td>NaN</td>\n",
       "      <td>NaN</td>\n",
       "      <td>SEG_100001</td>\n",
       "      <td>NaN</td>\n",
       "      <td>Apparel &amp; Accessories</td>\n",
       "      <td>Accessories</td>\n",
       "      <td>Coach</td>\n",
       "    </tr>\n",
       "    <tr>\n",
       "      <th>4</th>\n",
       "      <td>0003a0c905524d4776536f2b08612492</td>\n",
       "      <td>NaN</td>\n",
       "      <td>NaN</td>\n",
       "      <td>NaN</td>\n",
       "      <td>NaN</td>\n",
       "      <td>SEG_100001</td>\n",
       "      <td>NaN</td>\n",
       "      <td>Apparel &amp; Accessories</td>\n",
       "      <td>Accessories</td>\n",
       "      <td>Coach</td>\n",
       "    </tr>\n",
       "  </tbody>\n",
       "</table>\n",
       "</div>"
      ],
      "text/plain": [
       "                          EMAIL_MD5   AGE GENDER    INCOME          DMA  \\\n",
       "0  0000e3b866301159fec58c6d2c50ff68   NaN      M   48000.0  New York NY   \n",
       "1  00010f73d2902ebd3dcf25266a921551  48.0      F       NaN          NaN   \n",
       "2  0001c3cf1a4930fb08fe7e0881c07e3e  46.0      F  429000.0  New York NY   \n",
       "3  00029c9144de248bda40f969ab7fa576   NaN    NaN       NaN          NaN   \n",
       "4  0003a0c905524d4776536f2b08612492   NaN    NaN       NaN          NaN   \n",
       "\n",
       "   SEGMENT_ID Scores  CATEGORY_SEGMENT_NAME SUB_CATEGORY_SEGMENT_NAME  \\\n",
       "0  SEG_100001    NaN  Apparel & Accessories               Accessories   \n",
       "1  SEG_100001    NaN  Apparel & Accessories               Accessories   \n",
       "2  SEG_100001    NaN  Apparel & Accessories               Accessories   \n",
       "3  SEG_100001    NaN  Apparel & Accessories               Accessories   \n",
       "4  SEG_100001    NaN  Apparel & Accessories               Accessories   \n",
       "\n",
       "  BRAND_SEGMENT_NAME  \n",
       "0              Coach  \n",
       "1              Coach  \n",
       "2              Coach  \n",
       "3              Coach  \n",
       "4              Coach  "
      ]
     },
     "execution_count": 10,
     "metadata": {},
     "output_type": "execute_result"
    }
   ],
   "source": [
    "new_data=df2.join(data_dict.set_index('SEGMENT_ID'), on='SEGMENT_ID')\n",
    "new_data.head()"
   ]
  },
  {
   "cell_type": "code",
   "execution_count": 11,
   "id": "c39bc0a3",
   "metadata": {
    "scrolled": false
   },
   "outputs": [
    {
     "data": {
      "text/plain": [
       "EMAIL_MD5                           0\n",
       "AGE                          15903108\n",
       "GENDER                       13842252\n",
       "INCOME                       20510424\n",
       "DMA                          20905224\n",
       "SEGMENT_ID                          0\n",
       "Scores                       36447000\n",
       "CATEGORY_SEGMENT_NAME         1090392\n",
       "SUB_CATEGORY_SEGMENT_NAME     2271650\n",
       "BRAND_SEGMENT_NAME            1090392\n",
       "dtype: int64"
      ]
     },
     "execution_count": 11,
     "metadata": {},
     "output_type": "execute_result"
    }
   ],
   "source": [
    "new_data.isna().sum()"
   ]
  },
  {
   "cell_type": "code",
   "execution_count": null,
   "id": "f9e8af21",
   "metadata": {},
   "outputs": [],
   "source": [
    "# finding missing values by each group and each Segment ID"
   ]
  },
  {
   "cell_type": "code",
   "execution_count": 36,
   "id": "73f6cee0",
   "metadata": {},
   "outputs": [
    {
     "data": {
      "text/html": [
       "<div>\n",
       "<style scoped>\n",
       "    .dataframe tbody tr th:only-of-type {\n",
       "        vertical-align: middle;\n",
       "    }\n",
       "\n",
       "    .dataframe tbody tr th {\n",
       "        vertical-align: top;\n",
       "    }\n",
       "\n",
       "    .dataframe thead th {\n",
       "        text-align: right;\n",
       "    }\n",
       "</style>\n",
       "<table border=\"1\" class=\"dataframe\">\n",
       "  <thead>\n",
       "    <tr style=\"text-align: right;\">\n",
       "      <th></th>\n",
       "      <th>SEGMENT_ID</th>\n",
       "      <th>Scores</th>\n",
       "      <th>CATEGORY_SEGMENT_NAME</th>\n",
       "    </tr>\n",
       "  </thead>\n",
       "  <tbody>\n",
       "    <tr>\n",
       "      <th>0</th>\n",
       "      <td>SEG_100001</td>\n",
       "      <td>NaN</td>\n",
       "      <td>Apparel &amp; Accessories</td>\n",
       "    </tr>\n",
       "    <tr>\n",
       "      <th>1</th>\n",
       "      <td>SEG_100001</td>\n",
       "      <td>NaN</td>\n",
       "      <td>Apparel &amp; Accessories</td>\n",
       "    </tr>\n",
       "    <tr>\n",
       "      <th>2</th>\n",
       "      <td>SEG_100001</td>\n",
       "      <td>NaN</td>\n",
       "      <td>Apparel &amp; Accessories</td>\n",
       "    </tr>\n",
       "    <tr>\n",
       "      <th>3</th>\n",
       "      <td>SEG_100001</td>\n",
       "      <td>NaN</td>\n",
       "      <td>Apparel &amp; Accessories</td>\n",
       "    </tr>\n",
       "    <tr>\n",
       "      <th>4</th>\n",
       "      <td>SEG_100001</td>\n",
       "      <td>NaN</td>\n",
       "      <td>Apparel &amp; Accessories</td>\n",
       "    </tr>\n",
       "  </tbody>\n",
       "</table>\n",
       "</div>"
      ],
      "text/plain": [
       "   SEGMENT_ID Scores  CATEGORY_SEGMENT_NAME\n",
       "0  SEG_100001    NaN  Apparel & Accessories\n",
       "1  SEG_100001    NaN  Apparel & Accessories\n",
       "2  SEG_100001    NaN  Apparel & Accessories\n",
       "3  SEG_100001    NaN  Apparel & Accessories\n",
       "4  SEG_100001    NaN  Apparel & Accessories"
      ]
     },
     "execution_count": 36,
     "metadata": {},
     "output_type": "execute_result"
    }
   ],
   "source": [
    "finders= new_data.drop (columns=[\"EMAIL_MD5\",\"AGE\", \"GENDER\", \"INCOME\", \"DMA\", \"SUB_CATEGORY_SEGMENT_NAME\",\"BRAND_SEGMENT_NAME\"])\n",
    "finders.head()"
   ]
  },
  {
   "cell_type": "code",
   "execution_count": 63,
   "id": "53afba25",
   "metadata": {},
   "outputs": [
    {
     "data": {
      "text/plain": [
       "564"
      ]
     },
     "execution_count": 63,
     "metadata": {},
     "output_type": "execute_result"
    }
   ],
   "source": [
    "finders.SEGMENT_ID.nunique()"
   ]
  },
  {
   "cell_type": "code",
   "execution_count": 53,
   "id": "fc47478b",
   "metadata": {},
   "outputs": [
    {
     "data": {
      "text/plain": [
       "CATEGORY_SEGMENT_NAME  SEGMENT_ID\n",
       "Apparel & Accessories  SEG_100001    64482\n",
       "                       SEG_100002    64482\n",
       "                       SEG_100004    64482\n",
       "                       SEG_100005    64482\n",
       "                       SEG_100006    64482\n",
       "                                     ...  \n",
       "Travel                 SEG_100606    64482\n",
       "                       SEG_100607    64482\n",
       "                       SEG_100608    64482\n",
       "                       SEG_100613    64482\n",
       "                       SEG_100629    64482\n",
       "Name: Scores, Length: 552, dtype: int64"
      ]
     },
     "execution_count": 53,
     "metadata": {},
     "output_type": "execute_result"
    }
   ],
   "source": [
    "finders.groupby(['CATEGORY_SEGMENT_NAME','SEGMENT_ID']).Scores.apply(lambda x: x.isnull().sum())"
   ]
  },
  {
   "cell_type": "code",
   "execution_count": 57,
   "id": "24c4ba0c",
   "metadata": {},
   "outputs": [
    {
     "data": {
      "text/plain": [
       "SEGMENT_ID\n",
       "SEG_100617    90866\n",
       "Name: Scores, dtype: int64"
      ]
     },
     "execution_count": 57,
     "metadata": {},
     "output_type": "execute_result"
    }
   ],
   "source": [
    "finders[finders.CATEGORY_SEGMENT_NAME==\"Online Shoppers\"].groupby(['SEGMENT_ID']).Scores.apply(lambda x: len(x))"
   ]
  },
  {
   "cell_type": "code",
   "execution_count": 60,
   "id": "8f7d0b06",
   "metadata": {},
   "outputs": [
    {
     "data": {
      "text/plain": [
       "SEGMENT_ID\n",
       "SEG_100617    64482\n",
       "Name: Scores, dtype: int64"
      ]
     },
     "execution_count": 60,
     "metadata": {},
     "output_type": "execute_result"
    }
   ],
   "source": [
    "finders[finders.CATEGORY_SEGMENT_NAME==\"Online Shoppers\"].groupby(['SEGMENT_ID']).Scores.apply(lambda x: x.isna().sum())"
   ]
  },
  {
   "cell_type": "code",
   "execution_count": 61,
   "id": "66fbe76a",
   "metadata": {},
   "outputs": [
    {
     "data": {
      "text/plain": [
       "SEGMENT_ID\n",
       "SEG_100174    90866\n",
       "SEG_100175    90866\n",
       "SEG_100176    90866\n",
       "SEG_100177    90866\n",
       "SEG_100178    90866\n",
       "SEG_100179    90866\n",
       "SEG_100180    90866\n",
       "SEG_100181    90866\n",
       "SEG_100183    90866\n",
       "SEG_100186    90866\n",
       "SEG_100187    90866\n",
       "SEG_100448    90866\n",
       "SEG_100470    90866\n",
       "SEG_100471    90866\n",
       "SEG_100580    90866\n",
       "Name: Scores, dtype: int64"
      ]
     },
     "execution_count": 61,
     "metadata": {},
     "output_type": "execute_result"
    }
   ],
   "source": [
    "finders[finders.CATEGORY_SEGMENT_NAME==\"Mass Retailers\"].groupby(['SEGMENT_ID']).Scores.apply(lambda x: len(x))"
   ]
  },
  {
   "cell_type": "code",
   "execution_count": 62,
   "id": "e9640929",
   "metadata": {},
   "outputs": [
    {
     "data": {
      "text/plain": [
       "SEGMENT_ID\n",
       "SEG_100174    64482\n",
       "SEG_100175    64482\n",
       "SEG_100176    64482\n",
       "SEG_100177    64482\n",
       "SEG_100178    64482\n",
       "SEG_100179    64482\n",
       "SEG_100180    64482\n",
       "SEG_100181    64482\n",
       "SEG_100183    64482\n",
       "SEG_100186    64482\n",
       "SEG_100187    64482\n",
       "SEG_100448    64482\n",
       "SEG_100470    64482\n",
       "SEG_100471    64482\n",
       "SEG_100580    64482\n",
       "Name: Scores, dtype: int64"
      ]
     },
     "execution_count": 62,
     "metadata": {},
     "output_type": "execute_result"
    }
   ],
   "source": [
    "finders[finders.CATEGORY_SEGMENT_NAME==\"Mass Retailers\"].groupby(['SEGMENT_ID']).Scores.apply(lambda x: x.isna().sum())"
   ]
  },
  {
   "cell_type": "code",
   "execution_count": 91,
   "id": "debab4c1",
   "metadata": {},
   "outputs": [
    {
     "data": {
      "text/plain": [
       "CATEGORY_SEGMENT_NAME  SEGMENT_ID\n",
       "Apparel & Accessories  SEG_100001    0.709638\n",
       "                       SEG_100002    0.709638\n",
       "                       SEG_100004    0.709638\n",
       "                       SEG_100005    0.709638\n",
       "                       SEG_100006    0.709638\n",
       "                                       ...   \n",
       "Travel                 SEG_100606    0.709638\n",
       "                       SEG_100607    0.709638\n",
       "                       SEG_100608    0.709638\n",
       "                       SEG_100613    0.709638\n",
       "                       SEG_100629    0.709638\n",
       "Name: Scores, Length: 552, dtype: float64"
      ]
     },
     "execution_count": 91,
     "metadata": {},
     "output_type": "execute_result"
    }
   ],
   "source": [
    "#missing values by percentages for each group and each Segment ID.\n",
    "\n",
    "finders.groupby(['CATEGORY_SEGMENT_NAME','SEGMENT_ID']).Scores.apply(lambda x: x.isnull().sum()/len(x))"
   ]
  },
  {
   "cell_type": "code",
   "execution_count": null,
   "id": "53e509d1",
   "metadata": {},
   "outputs": [],
   "source": [
    "# finding missing values by each group only"
   ]
  },
  {
   "cell_type": "code",
   "execution_count": 93,
   "id": "ebdcda95",
   "metadata": {},
   "outputs": [
    {
     "data": {
      "text/plain": [
       "CATEGORY_SEGMENT_NAME\n",
       "Apparel & Accessories          6925958\n",
       "Automotive                     1869978\n",
       "Consumer Services              3159618\n",
       "Entertainment                  2192388\n",
       "Food & Pharmacy                6383718\n",
       "Home                           2412218\n",
       "Mass Retailers                  967230\n",
       "Office, Electronics, Games     1225158\n",
       "Online Shoppers                  64482\n",
       "Restaurant                     4836150\n",
       "Specialty Retail               1998942\n",
       "Subscription Shoppers            64482\n",
       "Travel                         3546510\n",
       "Name: Scores, dtype: int64"
      ]
     },
     "execution_count": 93,
     "metadata": {},
     "output_type": "execute_result"
    }
   ],
   "source": [
    "finders.groupby(['CATEGORY_SEGMENT_NAME'])['Scores'].apply(lambda x: x.isna().sum())"
   ]
  },
  {
   "cell_type": "code",
   "execution_count": 58,
   "id": "218be375",
   "metadata": {
    "scrolled": true
   },
   "outputs": [
    {
     "data": {
      "text/plain": [
       "CATEGORY_SEGMENT_NAME\n",
       "Apparel & Accessories          9722662\n",
       "Automotive                     2635114\n",
       "Consumer Services              4452434\n",
       "Entertainment                  3089444\n",
       "Food & Pharmacy                8995734\n",
       "Home                           3362042\n",
       "Mass Retailers                 1362990\n",
       "Office, Electronics, Games     1726454\n",
       "Online Shoppers                  90866\n",
       "Restaurant                     6814950\n",
       "Specialty Retail               2816846\n",
       "Subscription Shoppers            90866\n",
       "Travel                         4997630\n",
       "Name: Scores, dtype: int64"
      ]
     },
     "execution_count": 58,
     "metadata": {},
     "output_type": "execute_result"
    }
   ],
   "source": [
    "total_bygroup=finders.groupby(['CATEGORY_SEGMENT_NAME'])['Scores'].apply(lambda x: len(x))\n",
    "total_bygroup.head(20)"
   ]
  },
  {
   "cell_type": "code",
   "execution_count": 94,
   "id": "dc9834ce",
   "metadata": {},
   "outputs": [
    {
     "data": {
      "text/plain": [
       "CATEGORY_SEGMENT_NAME\n",
       "Apparel & Accessories          0.712352\n",
       "Automotive                     0.709638\n",
       "Consumer Services              0.709638\n",
       "Entertainment                  0.709638\n",
       "Food & Pharmacy                0.709638\n",
       "Home                           0.717486\n",
       "Mass Retailers                 0.709638\n",
       "Office, Electronics, Games     0.709638\n",
       "Online Shoppers                0.709638\n",
       "Restaurant                     0.709638\n",
       "Specialty Retail               0.709638\n",
       "Subscription Shoppers          0.709638\n",
       "Travel                         0.709638\n",
       "Name: Scores, dtype: float64"
      ]
     },
     "execution_count": 94,
     "metadata": {},
     "output_type": "execute_result"
    }
   ],
   "source": [
    "#missing values by percentages for each group only. \n",
    "#Each category has similar percentages of missing values. \n",
    "\n",
    "finders.groupby(['CATEGORY_SEGMENT_NAME'])['Scores'].apply(lambda x: x.isna().sum()/len(x))"
   ]
  },
  {
   "cell_type": "code",
   "execution_count": 88,
   "id": "bfd1082e",
   "metadata": {},
   "outputs": [
    {
     "data": {
      "text/plain": [
       "(51248424, 10)"
      ]
     },
     "execution_count": 88,
     "metadata": {},
     "output_type": "execute_result"
    }
   ],
   "source": [
    "# Going back to new_data to continue analysis.\n",
    "\n",
    "new_data.shape"
   ]
  },
  {
   "cell_type": "code",
   "execution_count": 66,
   "id": "2739d41a",
   "metadata": {},
   "outputs": [
    {
     "data": {
      "text/html": [
       "<div>\n",
       "<style scoped>\n",
       "    .dataframe tbody tr th:only-of-type {\n",
       "        vertical-align: middle;\n",
       "    }\n",
       "\n",
       "    .dataframe tbody tr th {\n",
       "        vertical-align: top;\n",
       "    }\n",
       "\n",
       "    .dataframe thead th {\n",
       "        text-align: right;\n",
       "    }\n",
       "</style>\n",
       "<table border=\"1\" class=\"dataframe\">\n",
       "  <thead>\n",
       "    <tr style=\"text-align: right;\">\n",
       "      <th></th>\n",
       "      <th>SEGMENT_ID</th>\n",
       "      <th>Scores</th>\n",
       "      <th>CATEGORY_SEGMENT_NAME</th>\n",
       "      <th>SUB_CATEGORY_SEGMENT_NAME</th>\n",
       "      <th>BRAND_SEGMENT_NAME</th>\n",
       "    </tr>\n",
       "  </thead>\n",
       "  <tbody>\n",
       "    <tr>\n",
       "      <th>0</th>\n",
       "      <td>SEG_100001</td>\n",
       "      <td>NaN</td>\n",
       "      <td>Apparel &amp; Accessories</td>\n",
       "      <td>Accessories</td>\n",
       "      <td>Coach</td>\n",
       "    </tr>\n",
       "    <tr>\n",
       "      <th>1</th>\n",
       "      <td>SEG_100001</td>\n",
       "      <td>NaN</td>\n",
       "      <td>Apparel &amp; Accessories</td>\n",
       "      <td>Accessories</td>\n",
       "      <td>Coach</td>\n",
       "    </tr>\n",
       "    <tr>\n",
       "      <th>2</th>\n",
       "      <td>SEG_100001</td>\n",
       "      <td>NaN</td>\n",
       "      <td>Apparel &amp; Accessories</td>\n",
       "      <td>Accessories</td>\n",
       "      <td>Coach</td>\n",
       "    </tr>\n",
       "    <tr>\n",
       "      <th>3</th>\n",
       "      <td>SEG_100001</td>\n",
       "      <td>NaN</td>\n",
       "      <td>Apparel &amp; Accessories</td>\n",
       "      <td>Accessories</td>\n",
       "      <td>Coach</td>\n",
       "    </tr>\n",
       "    <tr>\n",
       "      <th>4</th>\n",
       "      <td>SEG_100001</td>\n",
       "      <td>NaN</td>\n",
       "      <td>Apparel &amp; Accessories</td>\n",
       "      <td>Accessories</td>\n",
       "      <td>Coach</td>\n",
       "    </tr>\n",
       "  </tbody>\n",
       "</table>\n",
       "</div>"
      ],
      "text/plain": [
       "   SEGMENT_ID Scores  CATEGORY_SEGMENT_NAME SUB_CATEGORY_SEGMENT_NAME  \\\n",
       "0  SEG_100001    NaN  Apparel & Accessories               Accessories   \n",
       "1  SEG_100001    NaN  Apparel & Accessories               Accessories   \n",
       "2  SEG_100001    NaN  Apparel & Accessories               Accessories   \n",
       "3  SEG_100001    NaN  Apparel & Accessories               Accessories   \n",
       "4  SEG_100001    NaN  Apparel & Accessories               Accessories   \n",
       "\n",
       "  BRAND_SEGMENT_NAME  \n",
       "0              Coach  \n",
       "1              Coach  \n",
       "2              Coach  \n",
       "3              Coach  \n",
       "4              Coach  "
      ]
     },
     "execution_count": 66,
     "metadata": {},
     "output_type": "execute_result"
    }
   ],
   "source": [
    "df5= new_data.drop (columns=[\"EMAIL_MD5\",\"AGE\", \"GENDER\", \"INCOME\", \"DMA\"])\n",
    "df5.head()"
   ]
  },
  {
   "cell_type": "code",
   "execution_count": 67,
   "id": "157244dc",
   "metadata": {},
   "outputs": [
    {
     "data": {
      "text/plain": [
       "(51248424, 5)"
      ]
     },
     "execution_count": 67,
     "metadata": {},
     "output_type": "execute_result"
    }
   ],
   "source": [
    "df5.shape"
   ]
  },
  {
   "cell_type": "code",
   "execution_count": 68,
   "id": "54b2c4c6",
   "metadata": {},
   "outputs": [
    {
     "data": {
      "text/plain": [
       "SEGMENT_ID                          0\n",
       "Scores                       36447000\n",
       "CATEGORY_SEGMENT_NAME         1090392\n",
       "SUB_CATEGORY_SEGMENT_NAME     2271650\n",
       "BRAND_SEGMENT_NAME            1090392\n",
       "dtype: int64"
      ]
     },
     "execution_count": 68,
     "metadata": {},
     "output_type": "execute_result"
    }
   ],
   "source": [
    "df5.isna().sum()"
   ]
  },
  {
   "cell_type": "code",
   "execution_count": 69,
   "id": "b6071af7",
   "metadata": {
    "scrolled": true
   },
   "outputs": [
    {
     "data": {
      "text/html": [
       "<div>\n",
       "<style scoped>\n",
       "    .dataframe tbody tr th:only-of-type {\n",
       "        vertical-align: middle;\n",
       "    }\n",
       "\n",
       "    .dataframe tbody tr th {\n",
       "        vertical-align: top;\n",
       "    }\n",
       "\n",
       "    .dataframe thead th {\n",
       "        text-align: right;\n",
       "    }\n",
       "</style>\n",
       "<table border=\"1\" class=\"dataframe\">\n",
       "  <thead>\n",
       "    <tr style=\"text-align: right;\">\n",
       "      <th></th>\n",
       "      <th>SEGMENT_ID</th>\n",
       "      <th>Scores</th>\n",
       "      <th>CATEGORY_SEGMENT_NAME</th>\n",
       "      <th>SUB_CATEGORY_SEGMENT_NAME</th>\n",
       "      <th>BRAND_SEGMENT_NAME</th>\n",
       "    </tr>\n",
       "  </thead>\n",
       "  <tbody>\n",
       "    <tr>\n",
       "      <th>7</th>\n",
       "      <td>SEG_100001</td>\n",
       "      <td>40.0</td>\n",
       "      <td>Apparel &amp; Accessories</td>\n",
       "      <td>Accessories</td>\n",
       "      <td>Coach</td>\n",
       "    </tr>\n",
       "    <tr>\n",
       "      <th>14</th>\n",
       "      <td>SEG_100001</td>\n",
       "      <td>10.0</td>\n",
       "      <td>Apparel &amp; Accessories</td>\n",
       "      <td>Accessories</td>\n",
       "      <td>Coach</td>\n",
       "    </tr>\n",
       "    <tr>\n",
       "      <th>15</th>\n",
       "      <td>SEG_100001</td>\n",
       "      <td>22.0</td>\n",
       "      <td>Apparel &amp; Accessories</td>\n",
       "      <td>Accessories</td>\n",
       "      <td>Coach</td>\n",
       "    </tr>\n",
       "    <tr>\n",
       "      <th>16</th>\n",
       "      <td>SEG_100001</td>\n",
       "      <td>9.0</td>\n",
       "      <td>Apparel &amp; Accessories</td>\n",
       "      <td>Accessories</td>\n",
       "      <td>Coach</td>\n",
       "    </tr>\n",
       "    <tr>\n",
       "      <th>19</th>\n",
       "      <td>SEG_100001</td>\n",
       "      <td>46.0</td>\n",
       "      <td>Apparel &amp; Accessories</td>\n",
       "      <td>Accessories</td>\n",
       "      <td>Coach</td>\n",
       "    </tr>\n",
       "  </tbody>\n",
       "</table>\n",
       "</div>"
      ],
      "text/plain": [
       "    SEGMENT_ID Scores  CATEGORY_SEGMENT_NAME SUB_CATEGORY_SEGMENT_NAME  \\\n",
       "7   SEG_100001   40.0  Apparel & Accessories               Accessories   \n",
       "14  SEG_100001   10.0  Apparel & Accessories               Accessories   \n",
       "15  SEG_100001   22.0  Apparel & Accessories               Accessories   \n",
       "16  SEG_100001    9.0  Apparel & Accessories               Accessories   \n",
       "19  SEG_100001   46.0  Apparel & Accessories               Accessories   \n",
       "\n",
       "   BRAND_SEGMENT_NAME  \n",
       "7               Coach  \n",
       "14              Coach  \n",
       "15              Coach  \n",
       "16              Coach  \n",
       "19              Coach  "
      ]
     },
     "execution_count": 69,
     "metadata": {},
     "output_type": "execute_result"
    }
   ],
   "source": [
    "nomissing_data=df5.dropna()\n",
    "nomissing_data.head()"
   ]
  },
  {
   "cell_type": "code",
   "execution_count": null,
   "id": "f88d852e",
   "metadata": {},
   "outputs": [],
   "source": [
    "# Rest of our analysis is based on nomissing_data"
   ]
  },
  {
   "cell_type": "code",
   "execution_count": 70,
   "id": "1affc755",
   "metadata": {
    "scrolled": true
   },
   "outputs": [
    {
     "data": {
      "text/plain": [
       "(14168208, 5)"
      ]
     },
     "execution_count": 70,
     "metadata": {},
     "output_type": "execute_result"
    }
   ],
   "source": [
    "nomissing_data.shape"
   ]
  },
  {
   "cell_type": "code",
   "execution_count": 71,
   "id": "547b27d1",
   "metadata": {
    "scrolled": true
   },
   "outputs": [
    {
     "name": "stdout",
     "output_type": "stream",
     "text": [
      "<class 'pandas.core.frame.DataFrame'>\n",
      "Int64Index: 14168208 entries, 7 to 50248897\n",
      "Data columns (total 5 columns):\n",
      " #   Column                     Dtype \n",
      "---  ------                     ----- \n",
      " 0   SEGMENT_ID                 object\n",
      " 1   Scores                     object\n",
      " 2   CATEGORY_SEGMENT_NAME      object\n",
      " 3   SUB_CATEGORY_SEGMENT_NAME  object\n",
      " 4   BRAND_SEGMENT_NAME         object\n",
      "dtypes: object(5)\n",
      "memory usage: 648.6+ MB\n"
     ]
    }
   ],
   "source": [
    "nomissing_data.info()"
   ]
  },
  {
   "cell_type": "code",
   "execution_count": 72,
   "id": "cffdcdda",
   "metadata": {},
   "outputs": [
    {
     "name": "stderr",
     "output_type": "stream",
     "text": [
      "C:\\Users\\AmritaBhattacharya\\anaconda3\\lib\\site-packages\\pandas\\core\\generic.py:5516: SettingWithCopyWarning: \n",
      "A value is trying to be set on a copy of a slice from a DataFrame.\n",
      "Try using .loc[row_indexer,col_indexer] = value instead\n",
      "\n",
      "See the caveats in the documentation: https://pandas.pydata.org/pandas-docs/stable/user_guide/indexing.html#returning-a-view-versus-a-copy\n",
      "  self[name] = value\n"
     ]
    },
    {
     "data": {
      "text/html": [
       "<div>\n",
       "<style scoped>\n",
       "    .dataframe tbody tr th:only-of-type {\n",
       "        vertical-align: middle;\n",
       "    }\n",
       "\n",
       "    .dataframe tbody tr th {\n",
       "        vertical-align: top;\n",
       "    }\n",
       "\n",
       "    .dataframe thead th {\n",
       "        text-align: right;\n",
       "    }\n",
       "</style>\n",
       "<table border=\"1\" class=\"dataframe\">\n",
       "  <thead>\n",
       "    <tr style=\"text-align: right;\">\n",
       "      <th></th>\n",
       "      <th>SEGMENT_ID</th>\n",
       "      <th>Scores</th>\n",
       "      <th>CATEGORY_SEGMENT_NAME</th>\n",
       "      <th>SUB_CATEGORY_SEGMENT_NAME</th>\n",
       "      <th>BRAND_SEGMENT_NAME</th>\n",
       "    </tr>\n",
       "  </thead>\n",
       "  <tbody>\n",
       "    <tr>\n",
       "      <th>7</th>\n",
       "      <td>SEG_100001</td>\n",
       "      <td>40.0</td>\n",
       "      <td>Apparel &amp; Accessories</td>\n",
       "      <td>Accessories</td>\n",
       "      <td>Coach</td>\n",
       "    </tr>\n",
       "    <tr>\n",
       "      <th>14</th>\n",
       "      <td>SEG_100001</td>\n",
       "      <td>10.0</td>\n",
       "      <td>Apparel &amp; Accessories</td>\n",
       "      <td>Accessories</td>\n",
       "      <td>Coach</td>\n",
       "    </tr>\n",
       "    <tr>\n",
       "      <th>15</th>\n",
       "      <td>SEG_100001</td>\n",
       "      <td>22.0</td>\n",
       "      <td>Apparel &amp; Accessories</td>\n",
       "      <td>Accessories</td>\n",
       "      <td>Coach</td>\n",
       "    </tr>\n",
       "    <tr>\n",
       "      <th>16</th>\n",
       "      <td>SEG_100001</td>\n",
       "      <td>9.0</td>\n",
       "      <td>Apparel &amp; Accessories</td>\n",
       "      <td>Accessories</td>\n",
       "      <td>Coach</td>\n",
       "    </tr>\n",
       "    <tr>\n",
       "      <th>19</th>\n",
       "      <td>SEG_100001</td>\n",
       "      <td>46.0</td>\n",
       "      <td>Apparel &amp; Accessories</td>\n",
       "      <td>Accessories</td>\n",
       "      <td>Coach</td>\n",
       "    </tr>\n",
       "  </tbody>\n",
       "</table>\n",
       "</div>"
      ],
      "text/plain": [
       "    SEGMENT_ID  Scores  CATEGORY_SEGMENT_NAME SUB_CATEGORY_SEGMENT_NAME  \\\n",
       "7   SEG_100001    40.0  Apparel & Accessories               Accessories   \n",
       "14  SEG_100001    10.0  Apparel & Accessories               Accessories   \n",
       "15  SEG_100001    22.0  Apparel & Accessories               Accessories   \n",
       "16  SEG_100001     9.0  Apparel & Accessories               Accessories   \n",
       "19  SEG_100001    46.0  Apparel & Accessories               Accessories   \n",
       "\n",
       "   BRAND_SEGMENT_NAME  \n",
       "7               Coach  \n",
       "14              Coach  \n",
       "15              Coach  \n",
       "16              Coach  \n",
       "19              Coach  "
      ]
     },
     "execution_count": 72,
     "metadata": {},
     "output_type": "execute_result"
    }
   ],
   "source": [
    "# Change datatype of Scores from object to float\n",
    "\n",
    "nomissing_data.Scores = nomissing_data[\"Scores\"].astype(str).astype(float)\n",
    "nomissing_data.head()"
   ]
  },
  {
   "cell_type": "code",
   "execution_count": 73,
   "id": "ea98dd7a",
   "metadata": {
    "scrolled": true
   },
   "outputs": [
    {
     "name": "stdout",
     "output_type": "stream",
     "text": [
      "<class 'pandas.core.frame.DataFrame'>\n",
      "Int64Index: 14168208 entries, 7 to 50248897\n",
      "Data columns (total 5 columns):\n",
      " #   Column                     Dtype  \n",
      "---  ------                     -----  \n",
      " 0   SEGMENT_ID                 object \n",
      " 1   Scores                     float64\n",
      " 2   CATEGORY_SEGMENT_NAME      object \n",
      " 3   SUB_CATEGORY_SEGMENT_NAME  object \n",
      " 4   BRAND_SEGMENT_NAME         object \n",
      "dtypes: float64(1), object(4)\n",
      "memory usage: 648.6+ MB\n"
     ]
    }
   ],
   "source": [
    "nomissing_data.info()"
   ]
  },
  {
   "cell_type": "code",
   "execution_count": 74,
   "id": "da741643",
   "metadata": {
    "scrolled": true
   },
   "outputs": [
    {
     "data": {
      "text/html": [
       "<div>\n",
       "<style scoped>\n",
       "    .dataframe tbody tr th:only-of-type {\n",
       "        vertical-align: middle;\n",
       "    }\n",
       "\n",
       "    .dataframe tbody tr th {\n",
       "        vertical-align: top;\n",
       "    }\n",
       "\n",
       "    .dataframe thead th {\n",
       "        text-align: right;\n",
       "    }\n",
       "</style>\n",
       "<table border=\"1\" class=\"dataframe\">\n",
       "  <thead>\n",
       "    <tr style=\"text-align: right;\">\n",
       "      <th></th>\n",
       "      <th>Scores</th>\n",
       "    </tr>\n",
       "  </thead>\n",
       "  <tbody>\n",
       "    <tr>\n",
       "      <th>count</th>\n",
       "      <td>1.416821e+07</td>\n",
       "    </tr>\n",
       "    <tr>\n",
       "      <th>mean</th>\n",
       "      <td>1.281305e+02</td>\n",
       "    </tr>\n",
       "    <tr>\n",
       "      <th>std</th>\n",
       "      <td>3.802498e+02</td>\n",
       "    </tr>\n",
       "    <tr>\n",
       "      <th>min</th>\n",
       "      <td>0.000000e+00</td>\n",
       "    </tr>\n",
       "    <tr>\n",
       "      <th>25%</th>\n",
       "      <td>3.000000e+00</td>\n",
       "    </tr>\n",
       "    <tr>\n",
       "      <th>50%</th>\n",
       "      <td>1.600000e+01</td>\n",
       "    </tr>\n",
       "    <tr>\n",
       "      <th>75%</th>\n",
       "      <td>8.200000e+01</td>\n",
       "    </tr>\n",
       "    <tr>\n",
       "      <th>max</th>\n",
       "      <td>1.000000e+04</td>\n",
       "    </tr>\n",
       "  </tbody>\n",
       "</table>\n",
       "</div>"
      ],
      "text/plain": [
       "             Scores\n",
       "count  1.416821e+07\n",
       "mean   1.281305e+02\n",
       "std    3.802498e+02\n",
       "min    0.000000e+00\n",
       "25%    3.000000e+00\n",
       "50%    1.600000e+01\n",
       "75%    8.200000e+01\n",
       "max    1.000000e+04"
      ]
     },
     "execution_count": 74,
     "metadata": {},
     "output_type": "execute_result"
    }
   ],
   "source": [
    "nomissing_data.describe()"
   ]
  },
  {
   "cell_type": "code",
   "execution_count": 75,
   "id": "2f4d791e",
   "metadata": {},
   "outputs": [
    {
     "name": "stderr",
     "output_type": "stream",
     "text": [
      "C:\\Users\\AMRITA~1\\AppData\\Local\\Temp/ipykernel_18280/2897030072.py:1: SettingWithCopyWarning: \n",
      "A value is trying to be set on a copy of a slice from a DataFrame.\n",
      "Try using .loc[row_indexer,col_indexer] = value instead\n",
      "\n",
      "See the caveats in the documentation: https://pandas.pydata.org/pandas-docs/stable/user_guide/indexing.html#returning-a-view-versus-a-copy\n",
      "  nomissing_data['Scores']= nomissing_data['Scores'].div(10)\n"
     ]
    },
    {
     "data": {
      "text/html": [
       "<div>\n",
       "<style scoped>\n",
       "    .dataframe tbody tr th:only-of-type {\n",
       "        vertical-align: middle;\n",
       "    }\n",
       "\n",
       "    .dataframe tbody tr th {\n",
       "        vertical-align: top;\n",
       "    }\n",
       "\n",
       "    .dataframe thead th {\n",
       "        text-align: right;\n",
       "    }\n",
       "</style>\n",
       "<table border=\"1\" class=\"dataframe\">\n",
       "  <thead>\n",
       "    <tr style=\"text-align: right;\">\n",
       "      <th></th>\n",
       "      <th>SEGMENT_ID</th>\n",
       "      <th>Scores</th>\n",
       "      <th>CATEGORY_SEGMENT_NAME</th>\n",
       "      <th>SUB_CATEGORY_SEGMENT_NAME</th>\n",
       "      <th>BRAND_SEGMENT_NAME</th>\n",
       "    </tr>\n",
       "  </thead>\n",
       "  <tbody>\n",
       "    <tr>\n",
       "      <th>7</th>\n",
       "      <td>SEG_100001</td>\n",
       "      <td>4.0</td>\n",
       "      <td>Apparel &amp; Accessories</td>\n",
       "      <td>Accessories</td>\n",
       "      <td>Coach</td>\n",
       "    </tr>\n",
       "    <tr>\n",
       "      <th>14</th>\n",
       "      <td>SEG_100001</td>\n",
       "      <td>1.0</td>\n",
       "      <td>Apparel &amp; Accessories</td>\n",
       "      <td>Accessories</td>\n",
       "      <td>Coach</td>\n",
       "    </tr>\n",
       "    <tr>\n",
       "      <th>15</th>\n",
       "      <td>SEG_100001</td>\n",
       "      <td>2.2</td>\n",
       "      <td>Apparel &amp; Accessories</td>\n",
       "      <td>Accessories</td>\n",
       "      <td>Coach</td>\n",
       "    </tr>\n",
       "    <tr>\n",
       "      <th>16</th>\n",
       "      <td>SEG_100001</td>\n",
       "      <td>0.9</td>\n",
       "      <td>Apparel &amp; Accessories</td>\n",
       "      <td>Accessories</td>\n",
       "      <td>Coach</td>\n",
       "    </tr>\n",
       "    <tr>\n",
       "      <th>19</th>\n",
       "      <td>SEG_100001</td>\n",
       "      <td>4.6</td>\n",
       "      <td>Apparel &amp; Accessories</td>\n",
       "      <td>Accessories</td>\n",
       "      <td>Coach</td>\n",
       "    </tr>\n",
       "  </tbody>\n",
       "</table>\n",
       "</div>"
      ],
      "text/plain": [
       "    SEGMENT_ID  Scores  CATEGORY_SEGMENT_NAME SUB_CATEGORY_SEGMENT_NAME  \\\n",
       "7   SEG_100001     4.0  Apparel & Accessories               Accessories   \n",
       "14  SEG_100001     1.0  Apparel & Accessories               Accessories   \n",
       "15  SEG_100001     2.2  Apparel & Accessories               Accessories   \n",
       "16  SEG_100001     0.9  Apparel & Accessories               Accessories   \n",
       "19  SEG_100001     4.6  Apparel & Accessories               Accessories   \n",
       "\n",
       "   BRAND_SEGMENT_NAME  \n",
       "7               Coach  \n",
       "14              Coach  \n",
       "15              Coach  \n",
       "16              Coach  \n",
       "19              Coach  "
      ]
     },
     "execution_count": 75,
     "metadata": {},
     "output_type": "execute_result"
    }
   ],
   "source": [
    "# Cap Scores till 1000\n",
    "\n",
    "nomissing_data['Scores']= nomissing_data['Scores'].div(10)\n",
    "nomissing_data.head()"
   ]
  },
  {
   "cell_type": "code",
   "execution_count": 76,
   "id": "f7b32c3d",
   "metadata": {
    "scrolled": true
   },
   "outputs": [
    {
     "data": {
      "text/plain": [
       "CATEGORY_SEGMENT_NAME\n",
       "Apparel & Accessories          11.983326\n",
       "Automotive                     12.016338\n",
       "Consumer Services              12.629569\n",
       "Entertainment                  13.526138\n",
       "Food & Pharmacy                15.262267\n",
       "Home                           10.372568\n",
       "Mass Retailers                 36.646689\n",
       "Office, Electronics, Games     12.331538\n",
       "Restaurant                     10.118530\n",
       "Specialty Retail               15.631894\n",
       "Travel                          7.811587\n",
       "Name: Scores, dtype: float64"
      ]
     },
     "execution_count": 76,
     "metadata": {},
     "output_type": "execute_result"
    }
   ],
   "source": [
    "#Get mean affinity Scores by each category\n",
    "\n",
    "final=nomissing_data.groupby(\"CATEGORY_SEGMENT_NAME\").Scores.mean()\n",
    "final.head(50)"
   ]
  },
  {
   "cell_type": "code",
   "execution_count": 78,
   "id": "ba958a94",
   "metadata": {},
   "outputs": [
    {
     "data": {
      "image/png": "[encoded data removed]",
      "text/plain": [
       "<Figure size 432x288 with 1 Axes>"
      ]
     },
     "metadata": {
      "needs_background": "light"
     },
     "output_type": "display_data"
    }
   ],
   "source": [
    "ax = final.plot.barh(xlabel='CATEGORY_SEGMENT_NAME', ylabel='mean', rot=0)"
   ]
  },
  {
   "cell_type": "code",
   "execution_count": 79,
   "id": "5dd48f7e",
   "metadata": {},
   "outputs": [],
   "source": [
    "from sklearn.preprocessing import StandardScaler\n",
    "import seaborn as sns\n",
    "import math"
   ]
  },
  {
   "cell_type": "code",
   "execution_count": null,
   "id": "1db3fcda",
   "metadata": {},
   "outputs": [],
   "source": [
    "#data is heavily right skewed. \n",
    "#Couldn't be normalized using standardization, log transformation, log-log transformation, square-root of log transformation.\n",
    "#Couldn't use BoxCox Transformation as values need to be strictly poistive."
   ]
  },
  {
   "cell_type": "code",
   "execution_count": 97,
   "id": "f58bcd98",
   "metadata": {
    "scrolled": true
   },
   "outputs": [
    {
     "name": "stderr",
     "output_type": "stream",
     "text": [
      "C:\\Users\\AMRITA~1\\AppData\\Local\\Temp/ipykernel_18280/2930051686.py:1: SettingWithCopyWarning: \n",
      "A value is trying to be set on a copy of a slice from a DataFrame.\n",
      "Try using .loc[row_indexer,col_indexer] = value instead\n",
      "\n",
      "See the caveats in the documentation: https://pandas.pydata.org/pandas-docs/stable/user_guide/indexing.html#returning-a-view-versus-a-copy\n",
      "  nomissing_data['scaled_scores']= StandardScaler().fit_transform(nomissing_data[['Scores']])\n"
     ]
    },
    {
     "data": {
      "text/html": [
       "<div>\n",
       "<style scoped>\n",
       "    .dataframe tbody tr th:only-of-type {\n",
       "        vertical-align: middle;\n",
       "    }\n",
       "\n",
       "    .dataframe tbody tr th {\n",
       "        vertical-align: top;\n",
       "    }\n",
       "\n",
       "    .dataframe thead th {\n",
       "        text-align: right;\n",
       "    }\n",
       "</style>\n",
       "<table border=\"1\" class=\"dataframe\">\n",
       "  <thead>\n",
       "    <tr style=\"text-align: right;\">\n",
       "      <th></th>\n",
       "      <th>SEGMENT_ID</th>\n",
       "      <th>Scores</th>\n",
       "      <th>CATEGORY_SEGMENT_NAME</th>\n",
       "      <th>SUB_CATEGORY_SEGMENT_NAME</th>\n",
       "      <th>BRAND_SEGMENT_NAME</th>\n",
       "      <th>log_scores</th>\n",
       "      <th>log_sqrt_Scores</th>\n",
       "      <th>log_log_scores</th>\n",
       "      <th>scaled_scores</th>\n",
       "    </tr>\n",
       "  </thead>\n",
       "  <tbody>\n",
       "    <tr>\n",
       "      <th>7</th>\n",
       "      <td>SEG_100001</td>\n",
       "      <td>4.0</td>\n",
       "      <td>Apparel &amp; Accessories</td>\n",
       "      <td>Accessories</td>\n",
       "      <td>Coach</td>\n",
       "      <td>0.698970</td>\n",
       "      <td>0.836044</td>\n",
       "      <td>0.230186</td>\n",
       "      <td>-0.231770</td>\n",
       "    </tr>\n",
       "    <tr>\n",
       "      <th>14</th>\n",
       "      <td>SEG_100001</td>\n",
       "      <td>1.0</td>\n",
       "      <td>Apparel &amp; Accessories</td>\n",
       "      <td>Accessories</td>\n",
       "      <td>Coach</td>\n",
       "      <td>0.301030</td>\n",
       "      <td>0.548662</td>\n",
       "      <td>0.114287</td>\n",
       "      <td>-0.310665</td>\n",
       "    </tr>\n",
       "    <tr>\n",
       "      <th>15</th>\n",
       "      <td>SEG_100001</td>\n",
       "      <td>2.2</td>\n",
       "      <td>Apparel &amp; Accessories</td>\n",
       "      <td>Accessories</td>\n",
       "      <td>Coach</td>\n",
       "      <td>0.505150</td>\n",
       "      <td>0.710739</td>\n",
       "      <td>0.177580</td>\n",
       "      <td>-0.279107</td>\n",
       "    </tr>\n",
       "    <tr>\n",
       "      <th>16</th>\n",
       "      <td>SEG_100001</td>\n",
       "      <td>0.9</td>\n",
       "      <td>Apparel &amp; Accessories</td>\n",
       "      <td>Accessories</td>\n",
       "      <td>Coach</td>\n",
       "      <td>0.278754</td>\n",
       "      <td>0.527971</td>\n",
       "      <td>0.106787</td>\n",
       "      <td>-0.313295</td>\n",
       "    </tr>\n",
       "    <tr>\n",
       "      <th>19</th>\n",
       "      <td>SEG_100001</td>\n",
       "      <td>4.6</td>\n",
       "      <td>Apparel &amp; Accessories</td>\n",
       "      <td>Accessories</td>\n",
       "      <td>Coach</td>\n",
       "      <td>0.748188</td>\n",
       "      <td>0.864979</td>\n",
       "      <td>0.242588</td>\n",
       "      <td>-0.215991</td>\n",
       "    </tr>\n",
       "  </tbody>\n",
       "</table>\n",
       "</div>"
      ],
      "text/plain": [
       "    SEGMENT_ID  Scores  CATEGORY_SEGMENT_NAME SUB_CATEGORY_SEGMENT_NAME  \\\n",
       "7   SEG_100001     4.0  Apparel & Accessories               Accessories   \n",
       "14  SEG_100001     1.0  Apparel & Accessories               Accessories   \n",
       "15  SEG_100001     2.2  Apparel & Accessories               Accessories   \n",
       "16  SEG_100001     0.9  Apparel & Accessories               Accessories   \n",
       "19  SEG_100001     4.6  Apparel & Accessories               Accessories   \n",
       "\n",
       "   BRAND_SEGMENT_NAME  log_scores  log_sqrt_Scores  log_log_scores  \\\n",
       "7               Coach    0.698970         0.836044        0.230186   \n",
       "14              Coach    0.301030         0.548662        0.114287   \n",
       "15              Coach    0.505150         0.710739        0.177580   \n",
       "16              Coach    0.278754         0.527971        0.106787   \n",
       "19              Coach    0.748188         0.864979        0.242588   \n",
       "\n",
       "    scaled_scores  \n",
       "7       -0.231770  \n",
       "14      -0.310665  \n",
       "15      -0.279107  \n",
       "16      -0.313295  \n",
       "19      -0.215991  "
      ]
     },
     "execution_count": 97,
     "metadata": {},
     "output_type": "execute_result"
    }
   ],
   "source": [
    "nomissing_data['scaled_scores']= StandardScaler().fit_transform(nomissing_data[['Scores']])\n",
    "nomissing_data.head()"
   ]
  },
  {
   "cell_type": "code",
   "execution_count": 98,
   "id": "0fd2209b",
   "metadata": {},
   "outputs": [
    {
     "data": {
      "text/plain": [
       "9.514319277387074"
      ]
     },
     "execution_count": 98,
     "metadata": {},
     "output_type": "execute_result"
    }
   ],
   "source": [
    "nomissing_data['scaled_scores'].skew()"
   ]
  },
  {
   "cell_type": "code",
   "execution_count": 80,
   "id": "b07fcdc2",
   "metadata": {
    "scrolled": true
   },
   "outputs": [
    {
     "name": "stderr",
     "output_type": "stream",
     "text": [
      "C:\\Users\\AMRITA~1\\AppData\\Local\\Temp/ipykernel_18280/3404582561.py:1: SettingWithCopyWarning: \n",
      "A value is trying to be set on a copy of a slice from a DataFrame.\n",
      "Try using .loc[row_indexer,col_indexer] = value instead\n",
      "\n",
      "See the caveats in the documentation: https://pandas.pydata.org/pandas-docs/stable/user_guide/indexing.html#returning-a-view-versus-a-copy\n",
      "  nomissing_data['log_scores'] = np.log10(nomissing_data['Scores']+1)\n"
     ]
    },
    {
     "data": {
      "text/html": [
       "<div>\n",
       "<style scoped>\n",
       "    .dataframe tbody tr th:only-of-type {\n",
       "        vertical-align: middle;\n",
       "    }\n",
       "\n",
       "    .dataframe tbody tr th {\n",
       "        vertical-align: top;\n",
       "    }\n",
       "\n",
       "    .dataframe thead th {\n",
       "        text-align: right;\n",
       "    }\n",
       "</style>\n",
       "<table border=\"1\" class=\"dataframe\">\n",
       "  <thead>\n",
       "    <tr style=\"text-align: right;\">\n",
       "      <th></th>\n",
       "      <th>SEGMENT_ID</th>\n",
       "      <th>Scores</th>\n",
       "      <th>CATEGORY_SEGMENT_NAME</th>\n",
       "      <th>SUB_CATEGORY_SEGMENT_NAME</th>\n",
       "      <th>BRAND_SEGMENT_NAME</th>\n",
       "      <th>log_scores</th>\n",
       "    </tr>\n",
       "  </thead>\n",
       "  <tbody>\n",
       "    <tr>\n",
       "      <th>7</th>\n",
       "      <td>SEG_100001</td>\n",
       "      <td>4.0</td>\n",
       "      <td>Apparel &amp; Accessories</td>\n",
       "      <td>Accessories</td>\n",
       "      <td>Coach</td>\n",
       "      <td>0.698970</td>\n",
       "    </tr>\n",
       "    <tr>\n",
       "      <th>14</th>\n",
       "      <td>SEG_100001</td>\n",
       "      <td>1.0</td>\n",
       "      <td>Apparel &amp; Accessories</td>\n",
       "      <td>Accessories</td>\n",
       "      <td>Coach</td>\n",
       "      <td>0.301030</td>\n",
       "    </tr>\n",
       "    <tr>\n",
       "      <th>15</th>\n",
       "      <td>SEG_100001</td>\n",
       "      <td>2.2</td>\n",
       "      <td>Apparel &amp; Accessories</td>\n",
       "      <td>Accessories</td>\n",
       "      <td>Coach</td>\n",
       "      <td>0.505150</td>\n",
       "    </tr>\n",
       "    <tr>\n",
       "      <th>16</th>\n",
       "      <td>SEG_100001</td>\n",
       "      <td>0.9</td>\n",
       "      <td>Apparel &amp; Accessories</td>\n",
       "      <td>Accessories</td>\n",
       "      <td>Coach</td>\n",
       "      <td>0.278754</td>\n",
       "    </tr>\n",
       "    <tr>\n",
       "      <th>19</th>\n",
       "      <td>SEG_100001</td>\n",
       "      <td>4.6</td>\n",
       "      <td>Apparel &amp; Accessories</td>\n",
       "      <td>Accessories</td>\n",
       "      <td>Coach</td>\n",
       "      <td>0.748188</td>\n",
       "    </tr>\n",
       "  </tbody>\n",
       "</table>\n",
       "</div>"
      ],
      "text/plain": [
       "    SEGMENT_ID  Scores  CATEGORY_SEGMENT_NAME SUB_CATEGORY_SEGMENT_NAME  \\\n",
       "7   SEG_100001     4.0  Apparel & Accessories               Accessories   \n",
       "14  SEG_100001     1.0  Apparel & Accessories               Accessories   \n",
       "15  SEG_100001     2.2  Apparel & Accessories               Accessories   \n",
       "16  SEG_100001     0.9  Apparel & Accessories               Accessories   \n",
       "19  SEG_100001     4.6  Apparel & Accessories               Accessories   \n",
       "\n",
       "   BRAND_SEGMENT_NAME  log_scores  \n",
       "7               Coach    0.698970  \n",
       "14              Coach    0.301030  \n",
       "15              Coach    0.505150  \n",
       "16              Coach    0.278754  \n",
       "19              Coach    0.748188  "
      ]
     },
     "execution_count": 80,
     "metadata": {},
     "output_type": "execute_result"
    }
   ],
   "source": [
    "nomissing_data['log_scores'] = np.log10(nomissing_data['Scores']+1)\n",
    "nomissing_data.head()"
   ]
  },
  {
   "cell_type": "code",
   "execution_count": 81,
   "id": "172566e5",
   "metadata": {},
   "outputs": [
    {
     "data": {
      "text/html": [
       "<div>\n",
       "<style scoped>\n",
       "    .dataframe tbody tr th:only-of-type {\n",
       "        vertical-align: middle;\n",
       "    }\n",
       "\n",
       "    .dataframe tbody tr th {\n",
       "        vertical-align: top;\n",
       "    }\n",
       "\n",
       "    .dataframe thead th {\n",
       "        text-align: right;\n",
       "    }\n",
       "</style>\n",
       "<table border=\"1\" class=\"dataframe\">\n",
       "  <thead>\n",
       "    <tr style=\"text-align: right;\">\n",
       "      <th></th>\n",
       "      <th>Scores</th>\n",
       "      <th>log_scores</th>\n",
       "    </tr>\n",
       "  </thead>\n",
       "  <tbody>\n",
       "    <tr>\n",
       "      <th>count</th>\n",
       "      <td>1.416821e+07</td>\n",
       "      <td>1.416821e+07</td>\n",
       "    </tr>\n",
       "    <tr>\n",
       "      <th>mean</th>\n",
       "      <td>1.281305e+01</td>\n",
       "      <td>6.051271e-01</td>\n",
       "    </tr>\n",
       "    <tr>\n",
       "      <th>std</th>\n",
       "      <td>3.802498e+01</td>\n",
       "      <td>5.927658e-01</td>\n",
       "    </tr>\n",
       "    <tr>\n",
       "      <th>min</th>\n",
       "      <td>0.000000e+00</td>\n",
       "      <td>0.000000e+00</td>\n",
       "    </tr>\n",
       "    <tr>\n",
       "      <th>25%</th>\n",
       "      <td>3.000000e-01</td>\n",
       "      <td>1.139434e-01</td>\n",
       "    </tr>\n",
       "    <tr>\n",
       "      <th>50%</th>\n",
       "      <td>1.600000e+00</td>\n",
       "      <td>4.149733e-01</td>\n",
       "    </tr>\n",
       "    <tr>\n",
       "      <th>75%</th>\n",
       "      <td>8.200000e+00</td>\n",
       "      <td>9.637878e-01</td>\n",
       "    </tr>\n",
       "    <tr>\n",
       "      <th>max</th>\n",
       "      <td>1.000000e+03</td>\n",
       "      <td>3.000434e+00</td>\n",
       "    </tr>\n",
       "  </tbody>\n",
       "</table>\n",
       "</div>"
      ],
      "text/plain": [
       "             Scores    log_scores\n",
       "count  1.416821e+07  1.416821e+07\n",
       "mean   1.281305e+01  6.051271e-01\n",
       "std    3.802498e+01  5.927658e-01\n",
       "min    0.000000e+00  0.000000e+00\n",
       "25%    3.000000e-01  1.139434e-01\n",
       "50%    1.600000e+00  4.149733e-01\n",
       "75%    8.200000e+00  9.637878e-01\n",
       "max    1.000000e+03  3.000434e+00"
      ]
     },
     "execution_count": 81,
     "metadata": {},
     "output_type": "execute_result"
    }
   ],
   "source": [
    "nomissing_data.describe()"
   ]
  },
  {
   "cell_type": "code",
   "execution_count": 82,
   "id": "49dc8267",
   "metadata": {},
   "outputs": [
    {
     "name": "stderr",
     "output_type": "stream",
     "text": [
      "C:\\Users\\AMRITA~1\\AppData\\Local\\Temp/ipykernel_18280/1217963961.py:1: SettingWithCopyWarning: \n",
      "A value is trying to be set on a copy of a slice from a DataFrame.\n",
      "Try using .loc[row_indexer,col_indexer] = value instead\n",
      "\n",
      "See the caveats in the documentation: https://pandas.pydata.org/pandas-docs/stable/user_guide/indexing.html#returning-a-view-versus-a-copy\n",
      "  nomissing_data['log_sqrt_Scores'] = nomissing_data['log_scores']**0.5\n"
     ]
    },
    {
     "data": {
      "text/html": [
       "<div>\n",
       "<style scoped>\n",
       "    .dataframe tbody tr th:only-of-type {\n",
       "        vertical-align: middle;\n",
       "    }\n",
       "\n",
       "    .dataframe tbody tr th {\n",
       "        vertical-align: top;\n",
       "    }\n",
       "\n",
       "    .dataframe thead th {\n",
       "        text-align: right;\n",
       "    }\n",
       "</style>\n",
       "<table border=\"1\" class=\"dataframe\">\n",
       "  <thead>\n",
       "    <tr style=\"text-align: right;\">\n",
       "      <th></th>\n",
       "      <th>SEGMENT_ID</th>\n",
       "      <th>Scores</th>\n",
       "      <th>CATEGORY_SEGMENT_NAME</th>\n",
       "      <th>SUB_CATEGORY_SEGMENT_NAME</th>\n",
       "      <th>BRAND_SEGMENT_NAME</th>\n",
       "      <th>log_scores</th>\n",
       "      <th>log_sqrt_Scores</th>\n",
       "    </tr>\n",
       "  </thead>\n",
       "  <tbody>\n",
       "    <tr>\n",
       "      <th>7</th>\n",
       "      <td>SEG_100001</td>\n",
       "      <td>4.0</td>\n",
       "      <td>Apparel &amp; Accessories</td>\n",
       "      <td>Accessories</td>\n",
       "      <td>Coach</td>\n",
       "      <td>0.698970</td>\n",
       "      <td>0.836044</td>\n",
       "    </tr>\n",
       "    <tr>\n",
       "      <th>14</th>\n",
       "      <td>SEG_100001</td>\n",
       "      <td>1.0</td>\n",
       "      <td>Apparel &amp; Accessories</td>\n",
       "      <td>Accessories</td>\n",
       "      <td>Coach</td>\n",
       "      <td>0.301030</td>\n",
       "      <td>0.548662</td>\n",
       "    </tr>\n",
       "    <tr>\n",
       "      <th>15</th>\n",
       "      <td>SEG_100001</td>\n",
       "      <td>2.2</td>\n",
       "      <td>Apparel &amp; Accessories</td>\n",
       "      <td>Accessories</td>\n",
       "      <td>Coach</td>\n",
       "      <td>0.505150</td>\n",
       "      <td>0.710739</td>\n",
       "    </tr>\n",
       "    <tr>\n",
       "      <th>16</th>\n",
       "      <td>SEG_100001</td>\n",
       "      <td>0.9</td>\n",
       "      <td>Apparel &amp; Accessories</td>\n",
       "      <td>Accessories</td>\n",
       "      <td>Coach</td>\n",
       "      <td>0.278754</td>\n",
       "      <td>0.527971</td>\n",
       "    </tr>\n",
       "    <tr>\n",
       "      <th>19</th>\n",
       "      <td>SEG_100001</td>\n",
       "      <td>4.6</td>\n",
       "      <td>Apparel &amp; Accessories</td>\n",
       "      <td>Accessories</td>\n",
       "      <td>Coach</td>\n",
       "      <td>0.748188</td>\n",
       "      <td>0.864979</td>\n",
       "    </tr>\n",
       "  </tbody>\n",
       "</table>\n",
       "</div>"
      ],
      "text/plain": [
       "    SEGMENT_ID  Scores  CATEGORY_SEGMENT_NAME SUB_CATEGORY_SEGMENT_NAME  \\\n",
       "7   SEG_100001     4.0  Apparel & Accessories               Accessories   \n",
       "14  SEG_100001     1.0  Apparel & Accessories               Accessories   \n",
       "15  SEG_100001     2.2  Apparel & Accessories               Accessories   \n",
       "16  SEG_100001     0.9  Apparel & Accessories               Accessories   \n",
       "19  SEG_100001     4.6  Apparel & Accessories               Accessories   \n",
       "\n",
       "   BRAND_SEGMENT_NAME  log_scores  log_sqrt_Scores  \n",
       "7               Coach    0.698970         0.836044  \n",
       "14              Coach    0.301030         0.548662  \n",
       "15              Coach    0.505150         0.710739  \n",
       "16              Coach    0.278754         0.527971  \n",
       "19              Coach    0.748188         0.864979  "
      ]
     },
     "execution_count": 82,
     "metadata": {},
     "output_type": "execute_result"
    }
   ],
   "source": [
    "nomissing_data['log_sqrt_Scores'] = nomissing_data['log_scores']**0.5\n",
    "nomissing_data.head()"
   ]
  },
  {
   "cell_type": "code",
   "execution_count": 83,
   "id": "dbe32591",
   "metadata": {},
   "outputs": [
    {
     "data": {
      "text/plain": [
       "<AxesSubplot:ylabel='Frequency'>"
      ]
     },
     "execution_count": 83,
     "metadata": {},
     "output_type": "execute_result"
    },
    {
     "data": {
      "image/png": "[encoded data removed]",
      "text/plain": [
       "<Figure size 432x288 with 1 Axes>"
      ]
     },
     "metadata": {
      "needs_background": "light"
     },
     "output_type": "display_data"
    }
   ],
   "source": [
    "nomissing_data.log_scores.plot.hist()"
   ]
  },
  {
   "cell_type": "code",
   "execution_count": 84,
   "id": "20572ae0",
   "metadata": {},
   "outputs": [
    {
     "name": "stderr",
     "output_type": "stream",
     "text": [
      "C:\\Users\\AMRITA~1\\AppData\\Local\\Temp/ipykernel_18280/4040835898.py:1: SettingWithCopyWarning: \n",
      "A value is trying to be set on a copy of a slice from a DataFrame.\n",
      "Try using .loc[row_indexer,col_indexer] = value instead\n",
      "\n",
      "See the caveats in the documentation: https://pandas.pydata.org/pandas-docs/stable/user_guide/indexing.html#returning-a-view-versus-a-copy\n",
      "  nomissing_data['log_log_scores'] = np.log10(nomissing_data['log_scores']+1)\n"
     ]
    },
    {
     "data": {
      "text/html": [
       "<div>\n",
       "<style scoped>\n",
       "    .dataframe tbody tr th:only-of-type {\n",
       "        vertical-align: middle;\n",
       "    }\n",
       "\n",
       "    .dataframe tbody tr th {\n",
       "        vertical-align: top;\n",
       "    }\n",
       "\n",
       "    .dataframe thead th {\n",
       "        text-align: right;\n",
       "    }\n",
       "</style>\n",
       "<table border=\"1\" class=\"dataframe\">\n",
       "  <thead>\n",
       "    <tr style=\"text-align: right;\">\n",
       "      <th></th>\n",
       "      <th>SEGMENT_ID</th>\n",
       "      <th>Scores</th>\n",
       "      <th>CATEGORY_SEGMENT_NAME</th>\n",
       "      <th>SUB_CATEGORY_SEGMENT_NAME</th>\n",
       "      <th>BRAND_SEGMENT_NAME</th>\n",
       "      <th>log_scores</th>\n",
       "      <th>log_sqrt_Scores</th>\n",
       "      <th>log_log_scores</th>\n",
       "    </tr>\n",
       "  </thead>\n",
       "  <tbody>\n",
       "    <tr>\n",
       "      <th>7</th>\n",
       "      <td>SEG_100001</td>\n",
       "      <td>4.0</td>\n",
       "      <td>Apparel &amp; Accessories</td>\n",
       "      <td>Accessories</td>\n",
       "      <td>Coach</td>\n",
       "      <td>0.698970</td>\n",
       "      <td>0.836044</td>\n",
       "      <td>0.230186</td>\n",
       "    </tr>\n",
       "    <tr>\n",
       "      <th>14</th>\n",
       "      <td>SEG_100001</td>\n",
       "      <td>1.0</td>\n",
       "      <td>Apparel &amp; Accessories</td>\n",
       "      <td>Accessories</td>\n",
       "      <td>Coach</td>\n",
       "      <td>0.301030</td>\n",
       "      <td>0.548662</td>\n",
       "      <td>0.114287</td>\n",
       "    </tr>\n",
       "    <tr>\n",
       "      <th>15</th>\n",
       "      <td>SEG_100001</td>\n",
       "      <td>2.2</td>\n",
       "      <td>Apparel &amp; Accessories</td>\n",
       "      <td>Accessories</td>\n",
       "      <td>Coach</td>\n",
       "      <td>0.505150</td>\n",
       "      <td>0.710739</td>\n",
       "      <td>0.177580</td>\n",
       "    </tr>\n",
       "    <tr>\n",
       "      <th>16</th>\n",
       "      <td>SEG_100001</td>\n",
       "      <td>0.9</td>\n",
       "      <td>Apparel &amp; Accessories</td>\n",
       "      <td>Accessories</td>\n",
       "      <td>Coach</td>\n",
       "      <td>0.278754</td>\n",
       "      <td>0.527971</td>\n",
       "      <td>0.106787</td>\n",
       "    </tr>\n",
       "    <tr>\n",
       "      <th>19</th>\n",
       "      <td>SEG_100001</td>\n",
       "      <td>4.6</td>\n",
       "      <td>Apparel &amp; Accessories</td>\n",
       "      <td>Accessories</td>\n",
       "      <td>Coach</td>\n",
       "      <td>0.748188</td>\n",
       "      <td>0.864979</td>\n",
       "      <td>0.242588</td>\n",
       "    </tr>\n",
       "  </tbody>\n",
       "</table>\n",
       "</div>"
      ],
      "text/plain": [
       "    SEGMENT_ID  Scores  CATEGORY_SEGMENT_NAME SUB_CATEGORY_SEGMENT_NAME  \\\n",
       "7   SEG_100001     4.0  Apparel & Accessories               Accessories   \n",
       "14  SEG_100001     1.0  Apparel & Accessories               Accessories   \n",
       "15  SEG_100001     2.2  Apparel & Accessories               Accessories   \n",
       "16  SEG_100001     0.9  Apparel & Accessories               Accessories   \n",
       "19  SEG_100001     4.6  Apparel & Accessories               Accessories   \n",
       "\n",
       "   BRAND_SEGMENT_NAME  log_scores  log_sqrt_Scores  log_log_scores  \n",
       "7               Coach    0.698970         0.836044        0.230186  \n",
       "14              Coach    0.301030         0.548662        0.114287  \n",
       "15              Coach    0.505150         0.710739        0.177580  \n",
       "16              Coach    0.278754         0.527971        0.106787  \n",
       "19              Coach    0.748188         0.864979        0.242588  "
      ]
     },
     "execution_count": 84,
     "metadata": {},
     "output_type": "execute_result"
    }
   ],
   "source": [
    "nomissing_data['log_log_scores'] = np.log10(nomissing_data['log_scores']+1)\n",
    "nomissing_data.head()"
   ]
  },
  {
   "cell_type": "code",
   "execution_count": 85,
   "id": "db3f23e7",
   "metadata": {},
   "outputs": [
    {
     "data": {
      "text/plain": [
       "<AxesSubplot:ylabel='Frequency'>"
      ]
     },
     "execution_count": 85,
     "metadata": {},
     "output_type": "execute_result"
    },
    {
     "data": {
      "image/png": "[encoded data removed]",
      "text/plain": [
       "<Figure size 432x288 with 1 Axes>"
      ]
     },
     "metadata": {
      "needs_background": "light"
     },
     "output_type": "display_data"
    }
   ],
   "source": [
    "nomissing_data.log_log_scores.plot.hist()"
   ]
  },
  {
   "cell_type": "code",
   "execution_count": 86,
   "id": "db2054a6",
   "metadata": {},
   "outputs": [
    {
     "data": {
      "text/plain": [
       "9.514319277387079"
      ]
     },
     "execution_count": 86,
     "metadata": {},
     "output_type": "execute_result"
    }
   ],
   "source": [
    "nomissing_data['Scores'].skew()"
   ]
  },
  {
   "cell_type": "code",
   "execution_count": 87,
   "id": "3f5e8dbb",
   "metadata": {},
   "outputs": [
    {
     "data": {
      "text/plain": [
       "0.5167464884752203"
      ]
     },
     "execution_count": 87,
     "metadata": {},
     "output_type": "execute_result"
    }
   ],
   "source": [
    "nomissing_data['log_log_scores'].skew()"
   ]
  }
 ],
 "metadata": {
  "kernelspec": {
   "display_name": "Python 3 (ipykernel)",
   "language": "python",
   "name": "python3"
  },
  "language_info": {
   "codemirror_mode": {
    "name": "ipython",
    "version": 3
   },
   "file_extension": ".py",
   "mimetype": "text/x-python",
   "name": "python",
   "nbconvert_exporter": "python",
   "pygments_lexer": "ipython3",
   "version": "3.9.7"
  }
 },
 "nbformat": 4,
 "nbformat_minor": 5
}
